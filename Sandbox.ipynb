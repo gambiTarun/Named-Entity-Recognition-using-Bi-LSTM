{
 "cells": [
  {
   "cell_type": "code",
   "execution_count": 1,
   "id": "34db1689",
   "metadata": {
    "executionInfo": {
     "elapsed": 1188,
     "status": "ok",
     "timestamp": 1679639359628,
     "user": {
      "displayName": "Tarunbir Gambhir",
      "userId": "02650259991711468637"
     },
     "user_tz": 420
    },
    "id": "34db1689"
   },
   "outputs": [],
   "source": [
    "import numpy as np\n",
    "import torch\n",
    "import gzip\n",
    "from tqdm import tqdm\n",
    "import matplotlib.pyplot as plt\n",
    "from sklearn.metrics import f1_score, precision_score, recall_score\n",
    "device = torch.device(\"cuda\" if torch.cuda.is_available() else \"cpu\")"
   ]
  },
  {
   "cell_type": "code",
   "execution_count": 2,
   "id": "866b1b7a",
   "metadata": {
    "colab": {
     "base_uri": "https://localhost:8080/"
    },
    "executionInfo": {
     "elapsed": 197,
     "status": "ok",
     "timestamp": 1679639360816,
     "user": {
      "displayName": "Tarunbir Gambhir",
      "userId": "02650259991711468637"
     },
     "user_tz": 420
    },
    "id": "866b1b7a",
    "outputId": "817fd324-c682-47c5-82f8-c605c2cfdf0b"
   },
   "outputs": [],
   "source": [
    "loc = \"\"\n",
    "train_file_data, dev_file_data, test_file_data = None,None,None\n",
    "\n",
    "# opening the train,test,dev data to read it\n",
    "with open(loc+\"data/train\",'r',encoding='utf8') as f:\n",
    "    train_file_data = f.read().split(\"\\n\")\n",
    "    \n",
    "with open(loc+'data/dev','r',encoding='utf8') as f:\n",
    "    dev_file_data = f.read().split(\"\\n\")\n",
    "    \n",
    "with open(loc+'data/test','r',encoding='utf8') as f:\n",
    "    test_file_data = f.read().split(\"\\n\")\n",
    "\n",
    "# setting threshold for the min frequency of words in the vocab\n",
    "thresh = 0\n",
    "vocab = {}\n",
    "for line in train_file_data:\n",
    "    if line!='':\n",
    "        d = line.split(' ')\n",
    "        # incrementing the frequency in vocab as we encounter the word\n",
    "        vocab[d[1]] = vocab.get(d[1], 0) + 1\n",
    "        \n",
    "unk = 0\n",
    "words=[]\n",
    "# creating a words list to account for minimum frequency threshold\n",
    "for k,v in vocab.items():\n",
    "    if v>thresh:\n",
    "        words.append([v,k])\n",
    "    else:\n",
    "        unk+=1\n",
    "\n",
    "# creating a vocab dictionary for word frequency\n",
    "vocab = {}\n",
    "vocab[\"<unk>\"] = unk\n",
    "for i,v in enumerate(sorted(words, reverse=True)):\n",
    "    vocab[v[1]] = v[0]"
   ]
  },
  {
   "cell_type": "code",
   "execution_count": 3,
   "id": "8e7715d9",
   "metadata": {
    "executionInfo": {
     "elapsed": 1043,
     "status": "ok",
     "timestamp": 1679639361857,
     "user": {
      "displayName": "Tarunbir Gambhir",
      "userId": "02650259991711468637"
     },
     "user_tz": 420
    },
    "id": "8e7715d9"
   },
   "outputs": [],
   "source": [
    "tags = {}\n",
    "for w in train_file_data:\n",
    "    if w!='':\n",
    "        d = w.split(' ')\n",
    "        if d[1] in vocab:\n",
    "            tags[d[2]] = tags.get(d[2], 0) + 1\n",
    "        \n",
    "tag_enc = {k:v for v,k in enumerate(list(tags.keys()))}\n",
    "tag_enc['<pad>'] = -1\n",
    "vocab_enc = {k:v for v,k in enumerate(['<pad>']+list(vocab.keys()))}\n",
    "tag_dec = list(tag_enc.keys())\n",
    "vocab_dec = list(vocab_enc.keys())\n",
    "\n",
    "sent, label = [], []\n",
    "X_train, y_train = [], []\n",
    "for w in train_file_data:\n",
    "    if w=='':\n",
    "        X_train.append(np.array(sent))\n",
    "        y_train.append(np.array(label))\n",
    "        sent,label=[],[]\n",
    "    else:\n",
    "        d = w.split(' ')\n",
    "        sent.append(d[1])\n",
    "        label.append(d[2])\n",
    "        \n",
    "sent, label = [], []\n",
    "X_dev, y_dev = [], []\n",
    "for w in dev_file_data:\n",
    "    if w=='':\n",
    "        X_dev.append(np.array(sent))\n",
    "        y_dev.append(np.array(label))\n",
    "        sent,label=[],[]\n",
    "    else:\n",
    "        d = w.split(' ')\n",
    "        sent.append(d[1])\n",
    "        label.append(d[2])\n",
    "        \n",
    "sent = []\n",
    "X_test = []\n",
    "for w in test_file_data:\n",
    "    if w=='':\n",
    "        X_test.append(np.array(sent))\n",
    "        sent=[]\n",
    "    else:\n",
    "        d = w.split(' ')\n",
    "        sent.append(d[1])\n"
   ]
  },
  {
   "cell_type": "code",
   "execution_count": 4,
   "id": "f3d68cce",
   "metadata": {
    "executionInfo": {
     "elapsed": 5,
     "status": "ok",
     "timestamp": 1679639361857,
     "user": {
      "displayName": "Tarunbir Gambhir",
      "userId": "02650259991711468637"
     },
     "user_tz": 420
    },
    "id": "f3d68cce"
   },
   "outputs": [],
   "source": [
    "class Model_Data(torch.utils.data.Dataset):\n",
    "    def __init__(self, X, Y):\n",
    "        self.X = X\n",
    "        self.y = Y\n",
    "        \n",
    "    def __len__(self):\n",
    "        return len(self.X)\n",
    "    \n",
    "    def __getitem__(self, idx):\n",
    "        sent = self.X[idx][0].long().to(device)\n",
    "        ner = self.y[idx].long().to(device) if len(self.y)!=0 else []\n",
    "        le = self.X[idx][1]\n",
    "        return sent, ner, le, idx"
   ]
  },
  {
   "cell_type": "markdown",
   "id": "de979d92",
   "metadata": {},
   "source": [
    "# Task 1: Simple Bidirectional LSTM"
   ]
  },
  {
   "cell_type": "code",
   "execution_count": 5,
   "id": "27d462d9",
   "metadata": {
    "executionInfo": {
     "elapsed": 447,
     "status": "ok",
     "timestamp": 1679639362301,
     "user": {
      "displayName": "Tarunbir Gambhir",
      "userId": "02650259991711468637"
     },
     "user_tz": 420
    },
    "id": "27d462d9",
    "scrolled": true
   },
   "outputs": [],
   "source": [
    "def enc_sent(x,voc):\n",
    "    return np.array([voc.get(w, voc['<unk>']) for w in x])\n",
    "\n",
    "def enc_tags(x,tag):\n",
    "    return np.array([tag.get(w) for w in x])\n",
    "\n",
    "# how many samples per batch to load\n",
    "batch_size = 16\n",
    "\n",
    "X_train_pad = torch.nn.utils.rnn.pad_sequence([torch.from_numpy(enc_sent(x,vocab_enc)) for x in X_train], batch_first=True, padding_value=vocab_enc['<pad>'])\n",
    "X_train_pad = [[x,len(l)] for x,l in zip(X_train_pad,X_train)]\n",
    "y_train_torch = torch.nn.utils.rnn.pad_sequence([torch.from_numpy(enc_tags(y_,tag_enc)) for y_ in y_train], batch_first=True, padding_value=tag_enc['<pad>'])\n",
    "\n",
    "X_dev_pad = torch.nn.utils.rnn.pad_sequence([torch.from_numpy(enc_sent(x,vocab_enc)) for x in X_dev], batch_first=True, padding_value=vocab_enc['<pad>'])\n",
    "X_dev_pad = [[x,len(l)] for x,l in zip(X_dev_pad,X_dev)]\n",
    "y_dev_torch = torch.nn.utils.rnn.pad_sequence([torch.from_numpy(enc_tags(y_,tag_enc)) for y_ in y_dev], batch_first=True, padding_value=tag_enc['<pad>'])\n",
    "\n",
    "X_test_pad = torch.nn.utils.rnn.pad_sequence([torch.from_numpy(enc_sent(x,vocab_enc)) for x in X_test], batch_first=True, padding_value=vocab_enc['<pad>'])\n",
    "X_test_pad = [[x,len(l)] for x,l in zip(X_test_pad,X_test)]\n",
    "\n",
    "train_data = Model_Data(X_train_pad,y_train_torch)\n",
    "dev_data = Model_Data(X_dev_pad,y_dev_torch)\n",
    "test_data = Model_Data(X_test_pad,[])\n",
    "\n",
    "# prepare data loaders\n",
    "train_loader = torch.utils.data.DataLoader(train_data, batch_size=batch_size)\n",
    "dev_loader = torch.utils.data.DataLoader(dev_data, batch_size=batch_size)\n",
    "test_loader = torch.utils.data.DataLoader(test_data, batch_size=batch_size)"
   ]
  },
  {
   "cell_type": "code",
   "execution_count": 6,
   "id": "8da560f8",
   "metadata": {
    "executionInfo": {
     "elapsed": 285,
     "status": "ok",
     "timestamp": 1679641080033,
     "user": {
      "displayName": "Tarunbir Gambhir",
      "userId": "02650259991711468637"
     },
     "user_tz": 420
    },
    "id": "8da560f8"
   },
   "outputs": [],
   "source": [
    "class BLSTM(torch.nn.Module):\n",
    "    def __init__(self, vocab_size, emb_dim, hidden, n_layers, linear_op_size, n_classes, dropout, pad_idx):\n",
    "        super(BLSTM, self).__init__()\n",
    "        self.hidden_dim = hidden\n",
    "        self.num_layers = n_layers\n",
    "        self.emb = torch.nn.Embedding(num_embeddings=vocab_size, embedding_dim=emb_dim, padding_idx=pad_idx)\n",
    "        self.bilstm = torch.nn.LSTM(input_size=emb_dim, hidden_size=hidden, num_layers=n_layers, batch_first=True, bidirectional=True)\n",
    "        self.drop = torch.nn.Dropout(dropout)\n",
    "        self.linear1 = torch.nn.Linear(2*hidden, linear_op_size)\n",
    "        self.elu = torch.nn.ELU()\n",
    "        self.linear2 = torch.nn.Linear(linear_op_size, n_classes)\n",
    "        \n",
    "    def forward(self, x, l):\n",
    "        # Initializing hidden state for first input with zeros\n",
    "        x = self.emb(x)\n",
    "        \n",
    "        x_pack = torch.nn.utils.rnn.pack_padded_sequence(x, l, batch_first=True, enforce_sorted=False)\n",
    "        lstm_out, _ = self.bilstm(x_pack)\n",
    "        lstm_out, _ = torch.nn.utils.rnn.pad_packed_sequence(lstm_out, batch_first=True)\n",
    "        \n",
    "        lstm_out = self.drop(lstm_out)\n",
    "\n",
    "        x = self.linear1(lstm_out)\n",
    "        x = self.elu(x)\n",
    "        x = self.linear2(x)\n",
    "        return x"
   ]
  },
  {
   "cell_type": "code",
   "execution_count": 7,
   "id": "9703438f",
   "metadata": {
    "executionInfo": {
     "elapsed": 2,
     "status": "ok",
     "timestamp": 1679641080294,
     "user": {
      "displayName": "Tarunbir Gambhir",
      "userId": "02650259991711468637"
     },
     "user_tz": 420
    },
    "id": "9703438f"
   },
   "outputs": [],
   "source": [
    "def train(n_epochs,n_classes,model,criterion,optimizer,tag_enc,training_loader,dev_loader,model_name):\n",
    "\n",
    "    # initialize tracker for minimum validation loss\n",
    "    train_f1 = [0]\n",
    "    dev_f1 = [0]\n",
    "    losses = [np.Inf]\n",
    "\n",
    "    train_loss_min = np.Inf # set initial \"min\" to infinity\n",
    "        \n",
    "    for epoch in range(n_epochs):\n",
    "        # monitor training loss\n",
    "        \n",
    "        train_loss = 0\n",
    "        model.train() # prep model for training\n",
    "\n",
    "        pred, truth = [], []\n",
    "        for data, target, length, _ in tqdm(training_loader):\n",
    "            \n",
    "            optimizer.zero_grad()\n",
    "\n",
    "            # forward pass: compute predicted outputs by passing inputs to the model\n",
    "            output = model(data, length)\n",
    "\n",
    "            predicted = torch.argmax(output, 2)\n",
    "            [[pred.append(x.item()) for x in p[:t]] for p,t in zip(predicted,length)]\n",
    "            [[truth.append(x.item()) for x in i[:t]] for i,t in zip(target,length)]\n",
    "\n",
    "            target = target[:,:max(length)].clone()\n",
    "            loss = criterion(output.view(-1, n_classes), target.long().view(-1))\n",
    "            # backward pass: compute gradient of the loss with respect to model parameters\n",
    "            loss.backward()\n",
    "            # perform a single optimization step (parameter update)\n",
    "            optimizer.step()\n",
    "            # update running training loss\n",
    "            train_loss += loss.item()*data.size(0)\n",
    "  \n",
    "        train_f1.append(f1_score(truth,pred,labels=list(tag_enc.values()),average='macro',zero_division=0))\n",
    "\n",
    "        pred, truth = [], []\n",
    "        for x, y, l, _ in dev_loader:\n",
    "            outputs = model(x,l)\n",
    "            predicted = torch.argmax(outputs, 2)\n",
    "            [[pred.append(x.item()) for x in p[:t]] for p,t in zip(predicted,l)]\n",
    "            [[truth.append(x.item()) for x in i[:t]] for i,t in zip(y,l)]\n",
    "\n",
    "        dev_f1.append(f1_score(truth,pred,labels=list(tag_enc.values()),average='macro',zero_division=0))\n",
    "        \n",
    "        train_loss = train_loss/len(training_loader.dataset)\n",
    "        losses.append(train_loss)\n",
    "\n",
    "        print('Epoch: {} of {}, \\tTraining Loss: {:.6f}'.format(epoch+1,n_epochs,train_loss))\n",
    "\n",
    "        # save model if validation loss has decreased\n",
    "        if train_loss <= train_loss_min:\n",
    "            print('Training loss decreased ({:.6f} --> {:.6f}).  Saving model ...'.format(\n",
    "            train_loss_min,\n",
    "            train_loss))\n",
    "            torch.save(model.state_dict(), model_name)\n",
    "            train_loss_min = train_loss\n",
    "\n",
    "    return train_f1, dev_f1, losses"
   ]
  },
  {
   "cell_type": "code",
   "execution_count": 8,
   "id": "5e087757",
   "metadata": {
    "colab": {
     "base_uri": "https://localhost:8080/"
    },
    "executionInfo": {
     "elapsed": 46210,
     "status": "ok",
     "timestamp": 1679641128181,
     "user": {
      "displayName": "Tarunbir Gambhir",
      "userId": "02650259991711468637"
     },
     "user_tz": 420
    },
    "id": "5e087757",
    "outputId": "95540dfc-075e-4eb8-f010-6219c0df65af",
    "scrolled": false
   },
   "outputs": [
    {
     "name": "stdout",
     "output_type": "stream",
     "text": [
      "BLSTM(\n",
      "  (emb): Embedding(23626, 100, padding_idx=0)\n",
      "  (bilstm): LSTM(100, 256, batch_first=True, bidirectional=True)\n",
      "  (drop): Dropout(p=0.33, inplace=False)\n",
      "  (linear1): Linear(in_features=512, out_features=128, bias=True)\n",
      "  (elu): ELU(alpha=1.0)\n",
      "  (linear2): Linear(in_features=128, out_features=9, bias=True)\n",
      ")\n"
     ]
    }
   ],
   "source": [
    "vocab_size=len(vocab_enc.keys())\n",
    "pad_idx=vocab_enc['<pad>']\n",
    "emb_dim=100 \n",
    "hidden_size=256 \n",
    "num_layers=1\n",
    "linear_op_size=128\n",
    "num_classes=len(tag_enc.keys())-1 # exclude the tag class\n",
    "dropout = 0.33\n",
    "pad_idx = vocab_enc['<pad>']\n",
    "class_weights = torch.tensor([(1-v/sum(tags.values())) for v in tags.values()]).to(device)\n",
    "\n",
    "blstmClassifier = BLSTM(vocab_size, emb_dim, hidden_size, num_layers, linear_op_size, num_classes, dropout, pad_idx) \n",
    "blstmClassifier.to(device)\n",
    "print(blstmClassifier)\n",
    "\n",
    "criterion = torch.nn.CrossEntropyLoss(weight=class_weights,ignore_index=tag_enc['<pad>'])\n",
    "optimizer = torch.optim.SGD(blstmClassifier.parameters(), lr=0.1, momentum=0.9) \n",
    "n_epochs = 60"
   ]
  },
  {
   "cell_type": "code",
   "execution_count": 11,
   "id": "a4109a04",
   "metadata": {
    "scrolled": false
   },
   "outputs": [
    {
     "name": "stderr",
     "output_type": "stream",
     "text": [
      "100%|██████████| 937/937 [00:15<00:00, 58.84it/s]\n"
     ]
    },
    {
     "name": "stdout",
     "output_type": "stream",
     "text": [
      "Epoch: 1 of 60, \tTraining Loss: 1.352023\n",
      "Training loss decreased (inf --> 1.352023).  Saving model ...\n"
     ]
    },
    {
     "name": "stderr",
     "output_type": "stream",
     "text": [
      "100%|██████████| 937/937 [00:15<00:00, 58.69it/s]\n"
     ]
    },
    {
     "name": "stdout",
     "output_type": "stream",
     "text": [
      "Epoch: 2 of 60, \tTraining Loss: 0.823325\n",
      "Training loss decreased (1.352023 --> 0.823325).  Saving model ...\n"
     ]
    },
    {
     "name": "stderr",
     "output_type": "stream",
     "text": [
      "100%|██████████| 937/937 [00:16<00:00, 57.61it/s]\n"
     ]
    },
    {
     "name": "stdout",
     "output_type": "stream",
     "text": [
      "Epoch: 3 of 60, \tTraining Loss: 0.489906\n",
      "Training loss decreased (0.823325 --> 0.489906).  Saving model ...\n"
     ]
    },
    {
     "name": "stderr",
     "output_type": "stream",
     "text": [
      "100%|██████████| 937/937 [00:16<00:00, 58.29it/s]\n"
     ]
    },
    {
     "name": "stdout",
     "output_type": "stream",
     "text": [
      "Epoch: 4 of 60, \tTraining Loss: 0.326888\n",
      "Training loss decreased (0.489906 --> 0.326888).  Saving model ...\n"
     ]
    },
    {
     "name": "stderr",
     "output_type": "stream",
     "text": [
      "100%|██████████| 937/937 [00:16<00:00, 58.24it/s]\n"
     ]
    },
    {
     "name": "stdout",
     "output_type": "stream",
     "text": [
      "Epoch: 5 of 60, \tTraining Loss: 0.215848\n",
      "Training loss decreased (0.326888 --> 0.215848).  Saving model ...\n"
     ]
    },
    {
     "name": "stderr",
     "output_type": "stream",
     "text": [
      "100%|██████████| 937/937 [00:16<00:00, 57.97it/s]\n"
     ]
    },
    {
     "name": "stdout",
     "output_type": "stream",
     "text": [
      "Epoch: 6 of 60, \tTraining Loss: 0.157225\n",
      "Training loss decreased (0.215848 --> 0.157225).  Saving model ...\n"
     ]
    },
    {
     "name": "stderr",
     "output_type": "stream",
     "text": [
      "100%|██████████| 937/937 [00:16<00:00, 58.42it/s]\n"
     ]
    },
    {
     "name": "stdout",
     "output_type": "stream",
     "text": [
      "Epoch: 7 of 60, \tTraining Loss: 0.120080\n",
      "Training loss decreased (0.157225 --> 0.120080).  Saving model ...\n"
     ]
    },
    {
     "name": "stderr",
     "output_type": "stream",
     "text": [
      "100%|██████████| 937/937 [00:16<00:00, 58.40it/s]\n"
     ]
    },
    {
     "name": "stdout",
     "output_type": "stream",
     "text": [
      "Epoch: 8 of 60, \tTraining Loss: 0.095091\n",
      "Training loss decreased (0.120080 --> 0.095091).  Saving model ...\n"
     ]
    },
    {
     "name": "stderr",
     "output_type": "stream",
     "text": [
      "100%|██████████| 937/937 [00:15<00:00, 59.19it/s]\n"
     ]
    },
    {
     "name": "stdout",
     "output_type": "stream",
     "text": [
      "Epoch: 9 of 60, \tTraining Loss: 0.079597\n",
      "Training loss decreased (0.095091 --> 0.079597).  Saving model ...\n"
     ]
    },
    {
     "name": "stderr",
     "output_type": "stream",
     "text": [
      "100%|██████████| 937/937 [00:15<00:00, 60.57it/s]\n"
     ]
    },
    {
     "name": "stdout",
     "output_type": "stream",
     "text": [
      "Epoch: 10 of 60, \tTraining Loss: 0.061104\n",
      "Training loss decreased (0.079597 --> 0.061104).  Saving model ...\n"
     ]
    },
    {
     "name": "stderr",
     "output_type": "stream",
     "text": [
      "100%|██████████| 937/937 [00:15<00:00, 60.49it/s]\n"
     ]
    },
    {
     "name": "stdout",
     "output_type": "stream",
     "text": [
      "Epoch: 11 of 60, \tTraining Loss: 0.056988\n",
      "Training loss decreased (0.061104 --> 0.056988).  Saving model ...\n"
     ]
    },
    {
     "name": "stderr",
     "output_type": "stream",
     "text": [
      "100%|██████████| 937/937 [00:15<00:00, 61.76it/s]\n"
     ]
    },
    {
     "name": "stdout",
     "output_type": "stream",
     "text": [
      "Epoch: 12 of 60, \tTraining Loss: 0.049637\n",
      "Training loss decreased (0.056988 --> 0.049637).  Saving model ...\n"
     ]
    },
    {
     "name": "stderr",
     "output_type": "stream",
     "text": [
      "100%|██████████| 937/937 [00:15<00:00, 61.98it/s]\n"
     ]
    },
    {
     "name": "stdout",
     "output_type": "stream",
     "text": [
      "Epoch: 13 of 60, \tTraining Loss: 0.041655\n",
      "Training loss decreased (0.049637 --> 0.041655).  Saving model ...\n"
     ]
    },
    {
     "name": "stderr",
     "output_type": "stream",
     "text": [
      "100%|██████████| 937/937 [00:15<00:00, 59.83it/s]\n"
     ]
    },
    {
     "name": "stdout",
     "output_type": "stream",
     "text": [
      "Epoch: 14 of 60, \tTraining Loss: 0.037930\n",
      "Training loss decreased (0.041655 --> 0.037930).  Saving model ...\n"
     ]
    },
    {
     "name": "stderr",
     "output_type": "stream",
     "text": [
      "100%|██████████| 937/937 [00:15<00:00, 61.69it/s]\n"
     ]
    },
    {
     "name": "stdout",
     "output_type": "stream",
     "text": [
      "Epoch: 15 of 60, \tTraining Loss: 0.031386\n",
      "Training loss decreased (0.037930 --> 0.031386).  Saving model ...\n"
     ]
    },
    {
     "name": "stderr",
     "output_type": "stream",
     "text": [
      "100%|██████████| 937/937 [00:15<00:00, 60.35it/s]\n"
     ]
    },
    {
     "name": "stdout",
     "output_type": "stream",
     "text": [
      "Epoch: 16 of 60, \tTraining Loss: 0.028499\n",
      "Training loss decreased (0.031386 --> 0.028499).  Saving model ...\n"
     ]
    },
    {
     "name": "stderr",
     "output_type": "stream",
     "text": [
      "100%|██████████| 937/937 [00:15<00:00, 58.82it/s]\n"
     ]
    },
    {
     "name": "stdout",
     "output_type": "stream",
     "text": [
      "Epoch: 17 of 60, \tTraining Loss: 0.025665\n",
      "Training loss decreased (0.028499 --> 0.025665).  Saving model ...\n"
     ]
    },
    {
     "name": "stderr",
     "output_type": "stream",
     "text": [
      "100%|██████████| 937/937 [00:15<00:00, 58.91it/s]\n"
     ]
    },
    {
     "name": "stdout",
     "output_type": "stream",
     "text": [
      "Epoch: 18 of 60, \tTraining Loss: 0.026643\n"
     ]
    },
    {
     "name": "stderr",
     "output_type": "stream",
     "text": [
      "100%|██████████| 937/937 [00:15<00:00, 58.82it/s]\n"
     ]
    },
    {
     "name": "stdout",
     "output_type": "stream",
     "text": [
      "Epoch: 19 of 60, \tTraining Loss: 0.021449\n",
      "Training loss decreased (0.025665 --> 0.021449).  Saving model ...\n"
     ]
    },
    {
     "name": "stderr",
     "output_type": "stream",
     "text": [
      "100%|██████████| 937/937 [00:16<00:00, 57.97it/s]\n"
     ]
    },
    {
     "name": "stdout",
     "output_type": "stream",
     "text": [
      "Epoch: 20 of 60, \tTraining Loss: 0.020165\n",
      "Training loss decreased (0.021449 --> 0.020165).  Saving model ...\n"
     ]
    },
    {
     "name": "stderr",
     "output_type": "stream",
     "text": [
      "100%|██████████| 937/937 [00:15<00:00, 59.11it/s]\n"
     ]
    },
    {
     "name": "stdout",
     "output_type": "stream",
     "text": [
      "Epoch: 21 of 60, \tTraining Loss: 0.019643\n",
      "Training loss decreased (0.020165 --> 0.019643).  Saving model ...\n"
     ]
    },
    {
     "name": "stderr",
     "output_type": "stream",
     "text": [
      "100%|██████████| 937/937 [00:15<00:00, 59.01it/s]\n"
     ]
    },
    {
     "name": "stdout",
     "output_type": "stream",
     "text": [
      "Epoch: 22 of 60, \tTraining Loss: 0.018988\n",
      "Training loss decreased (0.019643 --> 0.018988).  Saving model ...\n"
     ]
    },
    {
     "name": "stderr",
     "output_type": "stream",
     "text": [
      "100%|██████████| 937/937 [00:16<00:00, 57.79it/s]\n"
     ]
    },
    {
     "name": "stdout",
     "output_type": "stream",
     "text": [
      "Epoch: 23 of 60, \tTraining Loss: 0.018037\n",
      "Training loss decreased (0.018988 --> 0.018037).  Saving model ...\n"
     ]
    },
    {
     "name": "stderr",
     "output_type": "stream",
     "text": [
      "100%|██████████| 937/937 [00:15<00:00, 58.80it/s]\n"
     ]
    },
    {
     "name": "stdout",
     "output_type": "stream",
     "text": [
      "Epoch: 24 of 60, \tTraining Loss: 0.018842\n"
     ]
    },
    {
     "name": "stderr",
     "output_type": "stream",
     "text": [
      "100%|██████████| 937/937 [00:15<00:00, 60.37it/s]\n"
     ]
    },
    {
     "name": "stdout",
     "output_type": "stream",
     "text": [
      "Epoch: 25 of 60, \tTraining Loss: 0.016593\n",
      "Training loss decreased (0.018037 --> 0.016593).  Saving model ...\n"
     ]
    },
    {
     "name": "stderr",
     "output_type": "stream",
     "text": [
      "100%|██████████| 937/937 [00:15<00:00, 61.65it/s]\n"
     ]
    },
    {
     "name": "stdout",
     "output_type": "stream",
     "text": [
      "Epoch: 26 of 60, \tTraining Loss: 0.015938\n",
      "Training loss decreased (0.016593 --> 0.015938).  Saving model ...\n"
     ]
    },
    {
     "name": "stderr",
     "output_type": "stream",
     "text": [
      "100%|██████████| 937/937 [00:15<00:00, 59.60it/s]\n"
     ]
    },
    {
     "name": "stdout",
     "output_type": "stream",
     "text": [
      "Epoch: 27 of 60, \tTraining Loss: 0.012572\n",
      "Training loss decreased (0.015938 --> 0.012572).  Saving model ...\n"
     ]
    },
    {
     "name": "stderr",
     "output_type": "stream",
     "text": [
      "100%|██████████| 937/937 [00:15<00:00, 59.62it/s]\n"
     ]
    },
    {
     "name": "stdout",
     "output_type": "stream",
     "text": [
      "Epoch: 28 of 60, \tTraining Loss: 0.012971\n"
     ]
    },
    {
     "name": "stderr",
     "output_type": "stream",
     "text": [
      "100%|██████████| 937/937 [00:15<00:00, 58.62it/s]\n"
     ]
    },
    {
     "name": "stdout",
     "output_type": "stream",
     "text": [
      "Epoch: 29 of 60, \tTraining Loss: 0.011667\n",
      "Training loss decreased (0.012572 --> 0.011667).  Saving model ...\n"
     ]
    },
    {
     "name": "stderr",
     "output_type": "stream",
     "text": [
      "100%|██████████| 937/937 [00:15<00:00, 58.72it/s]\n"
     ]
    },
    {
     "name": "stdout",
     "output_type": "stream",
     "text": [
      "Epoch: 30 of 60, \tTraining Loss: 0.012667\n"
     ]
    },
    {
     "name": "stderr",
     "output_type": "stream",
     "text": [
      "100%|██████████| 937/937 [00:15<00:00, 59.99it/s]\n"
     ]
    },
    {
     "name": "stdout",
     "output_type": "stream",
     "text": [
      "Epoch: 31 of 60, \tTraining Loss: 0.010815\n",
      "Training loss decreased (0.011667 --> 0.010815).  Saving model ...\n"
     ]
    },
    {
     "name": "stderr",
     "output_type": "stream",
     "text": [
      "100%|██████████| 937/937 [00:15<00:00, 59.05it/s]\n"
     ]
    },
    {
     "name": "stdout",
     "output_type": "stream",
     "text": [
      "Epoch: 32 of 60, \tTraining Loss: 0.010064\n",
      "Training loss decreased (0.010815 --> 0.010064).  Saving model ...\n"
     ]
    },
    {
     "name": "stderr",
     "output_type": "stream",
     "text": [
      "100%|██████████| 937/937 [00:15<00:00, 59.09it/s]\n"
     ]
    },
    {
     "name": "stdout",
     "output_type": "stream",
     "text": [
      "Epoch: 33 of 60, \tTraining Loss: 0.012038\n"
     ]
    },
    {
     "name": "stderr",
     "output_type": "stream",
     "text": [
      "100%|██████████| 937/937 [00:16<00:00, 58.38it/s]\n"
     ]
    },
    {
     "name": "stdout",
     "output_type": "stream",
     "text": [
      "Epoch: 34 of 60, \tTraining Loss: 0.009402\n",
      "Training loss decreased (0.010064 --> 0.009402).  Saving model ...\n"
     ]
    },
    {
     "name": "stderr",
     "output_type": "stream",
     "text": [
      "100%|██████████| 937/937 [00:15<00:00, 59.16it/s]\n"
     ]
    },
    {
     "name": "stdout",
     "output_type": "stream",
     "text": [
      "Epoch: 35 of 60, \tTraining Loss: 0.011100\n"
     ]
    },
    {
     "name": "stderr",
     "output_type": "stream",
     "text": [
      "100%|██████████| 937/937 [00:15<00:00, 61.75it/s]\n"
     ]
    },
    {
     "name": "stdout",
     "output_type": "stream",
     "text": [
      "Epoch: 36 of 60, \tTraining Loss: 0.010216\n"
     ]
    },
    {
     "name": "stderr",
     "output_type": "stream",
     "text": [
      "100%|██████████| 937/937 [00:15<00:00, 61.01it/s]\n"
     ]
    },
    {
     "name": "stdout",
     "output_type": "stream",
     "text": [
      "Epoch: 37 of 60, \tTraining Loss: 0.009621\n"
     ]
    },
    {
     "name": "stderr",
     "output_type": "stream",
     "text": [
      "100%|██████████| 937/937 [00:15<00:00, 60.48it/s]\n"
     ]
    },
    {
     "name": "stdout",
     "output_type": "stream",
     "text": [
      "Epoch: 38 of 60, \tTraining Loss: 0.009958\n"
     ]
    },
    {
     "name": "stderr",
     "output_type": "stream",
     "text": [
      "100%|██████████| 937/937 [00:15<00:00, 59.50it/s]\n"
     ]
    },
    {
     "name": "stdout",
     "output_type": "stream",
     "text": [
      "Epoch: 39 of 60, \tTraining Loss: 0.009396\n",
      "Training loss decreased (0.009402 --> 0.009396).  Saving model ...\n"
     ]
    },
    {
     "name": "stderr",
     "output_type": "stream",
     "text": [
      "100%|██████████| 937/937 [00:15<00:00, 59.76it/s]\n"
     ]
    },
    {
     "name": "stdout",
     "output_type": "stream",
     "text": [
      "Epoch: 40 of 60, \tTraining Loss: 0.008829\n",
      "Training loss decreased (0.009396 --> 0.008829).  Saving model ...\n"
     ]
    },
    {
     "name": "stderr",
     "output_type": "stream",
     "text": [
      "100%|██████████| 937/937 [00:15<00:00, 60.11it/s]\n"
     ]
    },
    {
     "name": "stdout",
     "output_type": "stream",
     "text": [
      "Epoch: 41 of 60, \tTraining Loss: 0.008036\n",
      "Training loss decreased (0.008829 --> 0.008036).  Saving model ...\n"
     ]
    },
    {
     "name": "stderr",
     "output_type": "stream",
     "text": [
      "100%|██████████| 937/937 [00:16<00:00, 58.19it/s]\n"
     ]
    },
    {
     "name": "stdout",
     "output_type": "stream",
     "text": [
      "Epoch: 42 of 60, \tTraining Loss: 0.008478\n"
     ]
    },
    {
     "name": "stderr",
     "output_type": "stream",
     "text": [
      "100%|██████████| 937/937 [00:15<00:00, 58.68it/s]\n"
     ]
    },
    {
     "name": "stdout",
     "output_type": "stream",
     "text": [
      "Epoch: 43 of 60, \tTraining Loss: 0.007554\n",
      "Training loss decreased (0.008036 --> 0.007554).  Saving model ...\n"
     ]
    },
    {
     "name": "stderr",
     "output_type": "stream",
     "text": [
      "100%|██████████| 937/937 [00:15<00:00, 59.56it/s]\n"
     ]
    },
    {
     "name": "stdout",
     "output_type": "stream",
     "text": [
      "Epoch: 44 of 60, \tTraining Loss: 0.006977\n",
      "Training loss decreased (0.007554 --> 0.006977).  Saving model ...\n"
     ]
    },
    {
     "name": "stderr",
     "output_type": "stream",
     "text": [
      "100%|██████████| 937/937 [00:15<00:00, 59.62it/s]\n"
     ]
    },
    {
     "name": "stdout",
     "output_type": "stream",
     "text": [
      "Epoch: 45 of 60, \tTraining Loss: 0.007229\n"
     ]
    },
    {
     "name": "stderr",
     "output_type": "stream",
     "text": [
      "100%|██████████| 937/937 [00:15<00:00, 59.77it/s]\n"
     ]
    },
    {
     "name": "stdout",
     "output_type": "stream",
     "text": [
      "Epoch: 46 of 60, \tTraining Loss: 0.008251\n"
     ]
    },
    {
     "name": "stderr",
     "output_type": "stream",
     "text": [
      "100%|██████████| 937/937 [00:15<00:00, 59.91it/s]\n"
     ]
    },
    {
     "name": "stdout",
     "output_type": "stream",
     "text": [
      "Epoch: 47 of 60, \tTraining Loss: 0.007710\n"
     ]
    },
    {
     "name": "stderr",
     "output_type": "stream",
     "text": [
      "100%|██████████| 937/937 [00:15<00:00, 59.53it/s]\n"
     ]
    },
    {
     "name": "stdout",
     "output_type": "stream",
     "text": [
      "Epoch: 48 of 60, \tTraining Loss: 0.006923\n",
      "Training loss decreased (0.006977 --> 0.006923).  Saving model ...\n"
     ]
    },
    {
     "name": "stderr",
     "output_type": "stream",
     "text": [
      "100%|██████████| 937/937 [00:15<00:00, 60.30it/s]\n"
     ]
    },
    {
     "name": "stdout",
     "output_type": "stream",
     "text": [
      "Epoch: 49 of 60, \tTraining Loss: 0.006932\n"
     ]
    },
    {
     "name": "stderr",
     "output_type": "stream",
     "text": [
      "100%|██████████| 937/937 [00:15<00:00, 60.60it/s]\n"
     ]
    },
    {
     "name": "stdout",
     "output_type": "stream",
     "text": [
      "Epoch: 50 of 60, \tTraining Loss: 0.007302\n"
     ]
    },
    {
     "name": "stderr",
     "output_type": "stream",
     "text": [
      "100%|██████████| 937/937 [00:15<00:00, 59.37it/s]\n"
     ]
    },
    {
     "name": "stdout",
     "output_type": "stream",
     "text": [
      "Epoch: 51 of 60, \tTraining Loss: 0.007239\n"
     ]
    },
    {
     "name": "stderr",
     "output_type": "stream",
     "text": [
      "100%|██████████| 937/937 [00:15<00:00, 59.00it/s]\n"
     ]
    },
    {
     "name": "stdout",
     "output_type": "stream",
     "text": [
      "Epoch: 52 of 60, \tTraining Loss: 0.007324\n"
     ]
    },
    {
     "name": "stderr",
     "output_type": "stream",
     "text": [
      "100%|██████████| 937/937 [00:15<00:00, 59.28it/s]\n"
     ]
    },
    {
     "name": "stdout",
     "output_type": "stream",
     "text": [
      "Epoch: 53 of 60, \tTraining Loss: 0.006202\n",
      "Training loss decreased (0.006923 --> 0.006202).  Saving model ...\n"
     ]
    },
    {
     "name": "stderr",
     "output_type": "stream",
     "text": [
      "100%|██████████| 937/937 [00:15<00:00, 59.80it/s]\n"
     ]
    },
    {
     "name": "stdout",
     "output_type": "stream",
     "text": [
      "Epoch: 54 of 60, \tTraining Loss: 0.007113\n"
     ]
    },
    {
     "name": "stderr",
     "output_type": "stream",
     "text": [
      "100%|██████████| 937/937 [00:15<00:00, 58.74it/s]\n"
     ]
    },
    {
     "name": "stdout",
     "output_type": "stream",
     "text": [
      "Epoch: 55 of 60, \tTraining Loss: 0.006749\n"
     ]
    },
    {
     "name": "stderr",
     "output_type": "stream",
     "text": [
      "100%|██████████| 937/937 [00:15<00:00, 58.74it/s]\n"
     ]
    },
    {
     "name": "stdout",
     "output_type": "stream",
     "text": [
      "Epoch: 56 of 60, \tTraining Loss: 0.006191\n",
      "Training loss decreased (0.006202 --> 0.006191).  Saving model ...\n"
     ]
    },
    {
     "name": "stderr",
     "output_type": "stream",
     "text": [
      "100%|██████████| 937/937 [00:15<00:00, 58.83it/s]\n"
     ]
    },
    {
     "name": "stdout",
     "output_type": "stream",
     "text": [
      "Epoch: 57 of 60, \tTraining Loss: 0.007138\n"
     ]
    },
    {
     "name": "stderr",
     "output_type": "stream",
     "text": [
      "100%|██████████| 937/937 [00:16<00:00, 57.89it/s]\n"
     ]
    },
    {
     "name": "stdout",
     "output_type": "stream",
     "text": [
      "Epoch: 58 of 60, \tTraining Loss: 0.006018\n",
      "Training loss decreased (0.006191 --> 0.006018).  Saving model ...\n"
     ]
    },
    {
     "name": "stderr",
     "output_type": "stream",
     "text": [
      "100%|██████████| 937/937 [00:15<00:00, 58.94it/s]\n"
     ]
    },
    {
     "name": "stdout",
     "output_type": "stream",
     "text": [
      "Epoch: 59 of 60, \tTraining Loss: 0.005607\n",
      "Training loss decreased (0.006018 --> 0.005607).  Saving model ...\n"
     ]
    },
    {
     "name": "stderr",
     "output_type": "stream",
     "text": [
      "100%|██████████| 937/937 [00:15<00:00, 60.55it/s]\n"
     ]
    },
    {
     "name": "stdout",
     "output_type": "stream",
     "text": [
      "Epoch: 60 of 60, \tTraining Loss: 0.007752\n"
     ]
    },
    {
     "data": {
      "image/png": "[encoded data removed]",
      "text/plain": [
       "<Figure size 1700x500 with 2 Axes>"
      ]
     },
     "metadata": {},
     "output_type": "display_data"
    }
   ],
   "source": [
    "train_f1, dev_f1, losses = train(n_epochs,num_classes,blstmClassifier,criterion,optimizer,tag_enc,train_loader,dev_loader,'blstm1.pt')\n",
    "plt.figure(figsize=(17,5))\n",
    "plt.subplot(121)\n",
    "plt.plot(train_f1)\n",
    "plt.plot(dev_f1)\n",
    "plt.legend(['train-f1', 'dev-f1'])\n",
    "plt.xlabel('Epochs')\n",
    "plt.title('F1-score')\n",
    "plt.ylim(0,1)\n",
    "plt.subplot(122)\n",
    "plt.plot(losses)\n",
    "plt.xlabel('Epochs')\n",
    "plt.title('Training Loss')\n",
    "plt.savefig(\"BLSTM.png\", pad_inches=0.3, bbox_inches='tight')"
   ]
  },
  {
   "cell_type": "code",
   "execution_count": 55,
   "id": "G3lOC5lV9Jsy",
   "metadata": {
    "executionInfo": {
     "elapsed": 119,
     "status": "ok",
     "timestamp": 1679640143080,
     "user": {
      "displayName": "Tarunbir Gambhir",
      "userId": "02650259991711468637"
     },
     "user_tz": 420
    },
    "id": "G3lOC5lV9Jsy"
   },
   "outputs": [],
   "source": [
    "from collections import Counter\n",
    "def metrics(model, dataloader):\n",
    "    pred=[]\n",
    "    truth=[]\n",
    "    for x, y, l, _ in dataloader:\n",
    "        # print(x)\n",
    "        outputs = model(x,l)\n",
    "        # print(outputs.shape)\n",
    "        predicted = torch.argmax(outputs, 2)\n",
    "        predicted = [[pred.append(x.item()) for x in p[:t]] for p,t in zip(predicted,l)]\n",
    "        y = [[truth.append(x.item()) for x in i[:t]] for i,t in zip(y,l)]\n",
    "    prec = precision_score(truth,pred,labels=list(tag_enc.values()),average='macro',zero_division=0)\n",
    "    rec = recall_score(truth,pred,labels=list(tag_enc.values()),average='macro',zero_division=0)\n",
    "    f1 = f1_score(truth,pred,labels=list(tag_enc.values()),average='macro',zero_division=0)\n",
    "    print(Counter(pred))\n",
    "    print(Counter(truth))\n",
    "    return prec, rec, f1\n",
    "\n",
    "def makeOutput(model, dataloader, raw_data, tag_dec, filename):\n",
    "    output = []\n",
    "    for x, y, l, ids in dataloader:\n",
    "        outputs = model(x,l)\n",
    "        pred_labels = torch.argmax(outputs, 2)\n",
    "        if filename[:3]==\"dev\":\n",
    "            for predicted,true,siz,id in zip(pred_labels,y,l,ids):\n",
    "                words = [w for w in raw_data[id]]\n",
    "                golds = [tag_dec[i.item()] for i in true[:siz]]\n",
    "                preds = [tag_dec[i.item()] for i in predicted[:siz]]\n",
    "                [output.append(' '.join([str(i+1),w,g,p,\"\\n\"])) for i,(w,g,p) in enumerate(zip(words,golds,preds))]\n",
    "                output.append('\\n')\n",
    "        else:\n",
    "            for predicted,siz,id in zip(pred_labels,l,ids):\n",
    "                words = [w for w in raw_data[id]]\n",
    "                # golds = [tag[i.item()] for i in true[:siz]]\n",
    "                preds = [tag_dec[i.item()] for i in predicted[:siz]]\n",
    "                [output.append(' '.join([str(i+1),w,p,\"\\n\"])) for i,(w,p) in enumerate(zip(words,preds))]\n",
    "                output.append('\\n')\n",
    "            \n",
    "    with open(filename,'w') as f:\n",
    "        f.writelines(output)\n"
   ]
  },
  {
   "cell_type": "code",
   "execution_count": 12,
   "id": "ad4c1990",
   "metadata": {
    "colab": {
     "base_uri": "https://localhost:8080/"
    },
    "executionInfo": {
     "elapsed": 9562,
     "status": "ok",
     "timestamp": 1679640170167,
     "user": {
      "displayName": "Tarunbir Gambhir",
      "userId": "02650259991711468637"
     },
     "user_tz": 420
    },
    "id": "ad4c1990",
    "outputId": "3e6a5868-bb75-4e30-e9b7-b816d78432d2"
   },
   "outputs": [
    {
     "name": "stdout",
     "output_type": "stream",
     "text": [
      "Counter({1: 44749, 5: 1596, 3: 1313, 0: 1091, 4: 982, 2: 785, 6: 560, 7: 267, 8: 235})\n",
      "Counter({1: 42975, 3: 1842, 5: 1837, 0: 1341, 4: 1307, 2: 922, 6: 751, 7: 346, 8: 257})\n",
      "BiLSTM metrics (avg. all classes): prec: 0.804737987985751, \trecall: 0.6690867852887132, \tf1: 0.7282223549500613\n",
      "processed 51578 tokens with 5942 phrases; found: 5037 phrases; correct: 4128.\n",
      "accuracy:  94.71%; precision:  81.95%; recall:  69.47%; FB1:  75.20\n",
      "              LOC: precision:  88.52%; recall:  78.50%; FB1:  83.21  1629\n",
      "             MISC: precision:  84.65%; recall:  74.19%; FB1:  79.08  808\n",
      "              ORG: precision:  74.09%; recall:  66.74%; FB1:  70.22  1208\n",
      "              PER: precision:  79.53%; recall:  60.10%; FB1:  68.46  1392\n"
     ]
    }
   ],
   "source": [
    "blstmClassifier.load_state_dict(torch.load('blstm1.pt', map_location=device))\n",
    "prec, rec, f1 = metrics(blstmClassifier,dev_loader)\n",
    "print(\"BiLSTM metrics (avg. all classes): prec: {}, \\trecall: {}, \\tf1: {}\".format(prec,rec,f1))\n",
    "\n",
    "makeOutput(blstmClassifier,dev_loader,X_dev,tag_dec,\"dev1.out\")\n",
    "!perl conll03eval.txt < dev1.out\n",
    "makeOutput(blstmClassifier,test_loader,X_test,tag_dec,\"test1.out\")"
   ]
  },
  {
   "attachments": {},
   "cell_type": "markdown",
   "id": "4d0197ab",
   "metadata": {},
   "source": [
    "The simple BiLSTM model acheives an F1 score of **75.20%** on the conll evaluation"
   ]
  },
  {
   "cell_type": "markdown",
   "id": "53daae10",
   "metadata": {
    "id": "53daae10"
   },
   "source": [
    "# Task 2: Using GloVe word embeddings"
   ]
  },
  {
   "cell_type": "markdown",
   "id": "4b0df6bd",
   "metadata": {},
   "source": [
    " - Since the glove embeddings are to be case insensitive, we will encode the input text to the glove embedding after lowering their casing.\n",
    " - The original casing information is stored in different embeddings for casing. There are 7 types of casing information along with a padding for the casing encodings.\n",
    " - The casing embeddings is concatenated with the word embeddings (from glove) and fed into the BLSTM model."
   ]
  },
  {
   "cell_type": "code",
   "execution_count": 9,
   "id": "59c5450f",
   "metadata": {
    "executionInfo": {
     "elapsed": 21675,
     "status": "ok",
     "timestamp": 1679640250256,
     "user": {
      "displayName": "Tarunbir Gambhir",
      "userId": "02650259991711468637"
     },
     "user_tz": 420
    },
    "id": "59c5450f"
   },
   "outputs": [],
   "source": [
    "# Loading the glove embeddings\n",
    "vocab,embeddings = [],[]\n",
    "with gzip.open(loc+'glove.6B.100d.gz','rt') as fi:\n",
    "    full_content = fi.read().strip().split('\\n')\n",
    "for i in range(len(full_content)):\n",
    "    i_word = full_content[i].split(' ')[0]\n",
    "    i_embeddings = [float(val) for val in full_content[i].split(' ')[1:]]\n",
    "    vocab.append(i_word)\n",
    "    embeddings.append(i_embeddings)"
   ]
  },
  {
   "cell_type": "code",
   "execution_count": 10,
   "id": "e8eb8e1e",
   "metadata": {
    "colab": {
     "base_uri": "https://localhost:8080/"
    },
    "executionInfo": {
     "elapsed": 3693,
     "status": "ok",
     "timestamp": 1679640284841,
     "user": {
      "displayName": "Tarunbir Gambhir",
      "userId": "02650259991711468637"
     },
     "user_tz": 420
    },
    "id": "e8eb8e1e",
    "outputId": "acbdf92b-5c64-41d9-e52b-f37b6f852d80"
   },
   "outputs": [],
   "source": [
    "# case info encoding\n",
    "casing_enc = {'<pad>':0, 'numeric': 1, 'allLower':2, 'allUpper':3, 'initialUpper':4, 'other':5, 'mainly_numeric':6, 'contains_digit': 7}\n",
    "embs_casing = np.identity(len(casing_enc), dtype='float32')\n",
    "\n",
    "vocab_glove = np.array(vocab)\n",
    "embs_glove = np.array(embeddings)\n",
    "\n",
    "#insert '<pad>' and '<unk>' tokens at start of vocab_npa.\n",
    "vocab_glove = np.insert(vocab_glove, 0, '<pad>')\n",
    "vocab_glove = np.insert(vocab_glove, 1, '<unk>')\n",
    "\n",
    "vocab_glove_enc = {k:v for v,k in enumerate(vocab_glove)}\n",
    "vocab_glove_dec = list(vocab_glove_enc.keys())\n",
    "\n",
    "pad_emb_glove = np.zeros((1,embs_glove.shape[1]))   #embedding for '<pad>' token.\n",
    "unk_emb_glove = np.mean(embs_glove,axis=0,keepdims=True)    #embedding for '<unk>' token.\n",
    "\n",
    "#insert embeddings for pad and unk tokens at top of embs_npa.\n",
    "embs_glove = np.vstack((pad_emb_glove,unk_emb_glove,embs_glove))"
   ]
  },
  {
   "cell_type": "code",
   "execution_count": 11,
   "id": "01ae87cf",
   "metadata": {},
   "outputs": [],
   "source": [
    "# Data encoding\n",
    "def enc_casing(word, caseLookup):   \n",
    "    casing = 'other'\n",
    "    \n",
    "    numDigits = 0\n",
    "    for char in word:\n",
    "        if char.isdigit():\n",
    "            numDigits += 1\n",
    "            \n",
    "    digitFraction = numDigits / float(len(word))\n",
    "    \n",
    "    if word.isdigit(): #Is a digit\n",
    "        casing = 'numeric'\n",
    "    elif digitFraction > 0.5:\n",
    "        casing = 'mainly_numeric'\n",
    "    elif word.islower(): #All lower case\n",
    "        casing = 'allLower'\n",
    "    elif word.isupper(): #All upper case\n",
    "        casing = 'allUpper'\n",
    "    elif word[0].isupper(): #is a title, initial char upper, then all lower\n",
    "        casing = 'initialUpper'\n",
    "    elif numDigits > 0:\n",
    "        casing = 'contains_digit'\n",
    "    \n",
    "   \n",
    "    return caseLookup[casing]\n",
    "\n",
    "# capturing case information\n",
    "def enc_case(x,case):\n",
    "    return np.array([enc_casing(w,case) for w in x])\n",
    "\n",
    "# making word encoding case insensitive\n",
    "def enc_sent_case_insensitive(x,voc):\n",
    "    return np.array([voc.get(w.lower(), voc['<unk>']) for w in x])\n",
    "\n",
    "# how many samples per batch to load\n",
    "batch_size = 16\n",
    "\n",
    "X_train_sent_pad = torch.nn.utils.rnn.pad_sequence([torch.from_numpy(enc_sent_case_insensitive(x,vocab_glove_enc)) for x in X_train], batch_first=True, padding_value=vocab_glove_enc['<pad>'])\n",
    "X_train_case_pad = torch.nn.utils.rnn.pad_sequence([torch.from_numpy(enc_case(x,casing_enc)) for x in X_train], batch_first=True, padding_value=casing_enc['<pad>'])\n",
    "X_train_pad = [[torch.vstack([x1,x2]),len(l)] for x1,x2,l in zip(X_train_sent_pad,X_train_case_pad,X_train)]\n",
    "y_train_torch = torch.nn.utils.rnn.pad_sequence([torch.from_numpy(enc_tags(y_,tag_enc)) for y_ in y_train], batch_first=True, padding_value=tag_enc['<pad>'])\n",
    "\n",
    "X_dev_sent_pad = torch.nn.utils.rnn.pad_sequence([torch.from_numpy(enc_sent_case_insensitive(x,vocab_glove_enc)) for x in X_dev], batch_first=True, padding_value=vocab_glove_enc['<pad>'])\n",
    "X_dev_case_pad = torch.nn.utils.rnn.pad_sequence([torch.from_numpy(enc_case(x,casing_enc)) for x in X_dev], batch_first=True, padding_value=casing_enc['<pad>'])\n",
    "X_dev_pad = [[torch.vstack([x1,x2]),len(l)] for x1,x2,l in zip(X_dev_sent_pad,X_dev_case_pad,X_dev)]\n",
    "y_dev_torch = torch.nn.utils.rnn.pad_sequence([torch.from_numpy(enc_tags(y_,tag_enc)) for y_ in y_dev], batch_first=True, padding_value=tag_enc['<pad>'])\n",
    "\n",
    "X_test_sent_pad = torch.nn.utils.rnn.pad_sequence([torch.from_numpy(enc_sent_case_insensitive(x,vocab_glove_enc)) for x in X_test], batch_first=True, padding_value=vocab_glove_enc['<pad>'])\n",
    "X_test_case_pad = torch.nn.utils.rnn.pad_sequence([torch.from_numpy(enc_case(x,casing_enc)) for x in X_test], batch_first=True, padding_value=casing_enc['<pad>'])\n",
    "X_test_pad = [[torch.vstack([x1,x2]),len(l)] for x1,x2,l in zip(X_test_sent_pad,X_test_case_pad,X_test)]\n",
    "\n",
    "train_data = Model_Data(X_train_pad,y_train_torch)\n",
    "dev_data = Model_Data(X_dev_pad,y_dev_torch)\n",
    "test_data = Model_Data(X_test_pad,[])\n",
    "\n",
    "# prepare data loaders\n",
    "train_loader_glove = torch.utils.data.DataLoader(train_data, batch_size=batch_size)\n",
    "dev_loader_glove = torch.utils.data.DataLoader(dev_data, batch_size=batch_size)\n",
    "test_loader_glove = torch.utils.data.DataLoader(test_data, batch_size=batch_size)"
   ]
  },
  {
   "cell_type": "code",
   "execution_count": 12,
   "id": "sWZ21BlKZ7pn",
   "metadata": {
    "id": "sWZ21BlKZ7pn"
   },
   "outputs": [],
   "source": [
    "class BLSTMGlove(torch.nn.Module):\n",
    "    def __init__(self, embs_glove, embs_casing, lstm_inp_size, hidden, n_layers, linear_op_size, n_classes, dropout, pad_case, pad_word):\n",
    "        super(BLSTMGlove, self).__init__()\n",
    "        self.hidden_dim = hidden\n",
    "        self.num_layers = n_layers\n",
    "        self.emb_casing = torch.nn.Embedding.from_pretrained(torch.from_numpy(embs_casing).float(), padding_idx=pad_case)\n",
    "        self.emb = torch.nn.Embedding.from_pretrained(torch.from_numpy(embs_glove).float(), padding_idx=pad_word)\n",
    "        self.bilstm = torch.nn.LSTM(input_size=lstm_inp_size, hidden_size=hidden, num_layers=n_layers, batch_first=True, bidirectional=True)\n",
    "        self.drop = torch.nn.Dropout(dropout)\n",
    "        self.linear1 = torch.nn.Linear(2*hidden, linear_op_size)\n",
    "        self.elu = torch.nn.ELU()\n",
    "        self.linear2 = torch.nn.Linear(linear_op_size, n_classes)\n",
    "        \n",
    "    def forward(self, x, l):\n",
    "        x_word_info = self.emb(x.select(1,0))\n",
    "        x_case_info = self.emb_casing(x.select(1,1))\n",
    "\n",
    "        x = torch.cat([x_word_info,x_case_info], dim=2)\n",
    "        \n",
    "        x_pack = torch.nn.utils.rnn.pack_padded_sequence(x, l, batch_first=True, enforce_sorted=False)\n",
    "        lstm_out, _ = self.bilstm(x_pack)\n",
    "        lstm_out, _ = torch.nn.utils.rnn.pad_packed_sequence(lstm_out, batch_first=True)\n",
    "\n",
    "        x = self.drop(lstm_out)\n",
    "        x = self.linear1(x)\n",
    "        x = self.elu(x)\n",
    "        x = self.linear2(x)\n",
    "        return x"
   ]
  },
  {
   "cell_type": "code",
   "execution_count": 13,
   "id": "12cc871d",
   "metadata": {
    "executionInfo": {
     "elapsed": 2,
     "status": "aborted",
     "timestamp": 1679639400911,
     "user": {
      "displayName": "Tarunbir Gambhir",
      "userId": "02650259991711468637"
     },
     "user_tz": 420
    },
    "id": "12cc871d"
   },
   "outputs": [
    {
     "name": "stdout",
     "output_type": "stream",
     "text": [
      "BLSTMGlove(\n",
      "  (emb_casing): Embedding(8, 8, padding_idx=0)\n",
      "  (emb): Embedding(400002, 100, padding_idx=0)\n",
      "  (bilstm): LSTM(108, 256, batch_first=True, bidirectional=True)\n",
      "  (drop): Dropout(p=0.33, inplace=False)\n",
      "  (linear1): Linear(in_features=512, out_features=128, bias=True)\n",
      "  (elu): ELU(alpha=1.0)\n",
      "  (linear2): Linear(in_features=128, out_features=9, bias=True)\n",
      ")\n"
     ]
    }
   ],
   "source": [
    "case_padding = casing_enc['<pad>']\n",
    "word_padding = vocab_glove_enc['<pad>']\n",
    "hidden_size=256 \n",
    "num_layers=1 \n",
    "linear_op_size=128\n",
    "num_classes=len(tag_enc.keys())-1 # exclude the padding tag\n",
    "dropout = 0.33\n",
    "pad_idx = vocab_enc['<pad>']\n",
    "lstm_inp_size = embs_glove.shape[1] + embs_casing.shape[1]\n",
    "class_weights = torch.tensor([(1-v/sum(tags.values())) for v in tags.values()]).to(device)\n",
    "\n",
    "blstmClassifierGlove = BLSTMGlove(embs_glove, embs_casing, lstm_inp_size, hidden_size, num_layers, linear_op_size, num_classes, dropout, case_padding, word_padding) \n",
    "blstmClassifierGlove.to(device)\n",
    "print(blstmClassifierGlove)\n",
    "\n",
    "criterion = torch.nn.CrossEntropyLoss(weight=class_weights,ignore_index=tag_enc['<pad>'])\n",
    "optimizer = torch.optim.SGD(blstmClassifierGlove.parameters(), lr=0.1, momentum=0.9) \n",
    "n_epochs = 60"
   ]
  },
  {
   "cell_type": "code",
   "execution_count": 19,
   "id": "33acc576",
   "metadata": {
    "scrolled": false
   },
   "outputs": [
    {
     "name": "stderr",
     "output_type": "stream",
     "text": [
      "100%|██████████| 937/937 [00:15<00:00, 60.77it/s]\n"
     ]
    },
    {
     "name": "stdout",
     "output_type": "stream",
     "text": [
      "Epoch: 1 of 60, \tTraining Loss: 0.615259\n",
      "Training loss decreased (inf --> 0.615259).  Saving model ...\n"
     ]
    },
    {
     "name": "stderr",
     "output_type": "stream",
     "text": [
      "100%|██████████| 937/937 [00:15<00:00, 62.27it/s]\n"
     ]
    },
    {
     "name": "stdout",
     "output_type": "stream",
     "text": [
      "Epoch: 2 of 60, \tTraining Loss: 0.287450\n",
      "Training loss decreased (0.615259 --> 0.287450).  Saving model ...\n"
     ]
    },
    {
     "name": "stderr",
     "output_type": "stream",
     "text": [
      "100%|██████████| 937/937 [00:14<00:00, 63.07it/s]\n"
     ]
    },
    {
     "name": "stdout",
     "output_type": "stream",
     "text": [
      "Epoch: 3 of 60, \tTraining Loss: 0.212216\n",
      "Training loss decreased (0.287450 --> 0.212216).  Saving model ...\n"
     ]
    },
    {
     "name": "stderr",
     "output_type": "stream",
     "text": [
      "100%|██████████| 937/937 [00:15<00:00, 61.88it/s]\n"
     ]
    },
    {
     "name": "stdout",
     "output_type": "stream",
     "text": [
      "Epoch: 4 of 60, \tTraining Loss: 0.173271\n",
      "Training loss decreased (0.212216 --> 0.173271).  Saving model ...\n"
     ]
    },
    {
     "name": "stderr",
     "output_type": "stream",
     "text": [
      "100%|██████████| 937/937 [00:15<00:00, 61.40it/s]\n"
     ]
    },
    {
     "name": "stdout",
     "output_type": "stream",
     "text": [
      "Epoch: 5 of 60, \tTraining Loss: 0.139310\n",
      "Training loss decreased (0.173271 --> 0.139310).  Saving model ...\n"
     ]
    },
    {
     "name": "stderr",
     "output_type": "stream",
     "text": [
      "100%|██████████| 937/937 [00:15<00:00, 60.31it/s]\n"
     ]
    },
    {
     "name": "stdout",
     "output_type": "stream",
     "text": [
      "Epoch: 6 of 60, \tTraining Loss: 0.115850\n",
      "Training loss decreased (0.139310 --> 0.115850).  Saving model ...\n"
     ]
    },
    {
     "name": "stderr",
     "output_type": "stream",
     "text": [
      "100%|██████████| 937/937 [00:14<00:00, 64.20it/s]\n"
     ]
    },
    {
     "name": "stdout",
     "output_type": "stream",
     "text": [
      "Epoch: 7 of 60, \tTraining Loss: 0.098534\n",
      "Training loss decreased (0.115850 --> 0.098534).  Saving model ...\n"
     ]
    },
    {
     "name": "stderr",
     "output_type": "stream",
     "text": [
      "100%|██████████| 937/937 [00:14<00:00, 62.88it/s]\n"
     ]
    },
    {
     "name": "stdout",
     "output_type": "stream",
     "text": [
      "Epoch: 8 of 60, \tTraining Loss: 0.083251\n",
      "Training loss decreased (0.098534 --> 0.083251).  Saving model ...\n"
     ]
    },
    {
     "name": "stderr",
     "output_type": "stream",
     "text": [
      "100%|██████████| 937/937 [00:15<00:00, 61.47it/s]\n"
     ]
    },
    {
     "name": "stdout",
     "output_type": "stream",
     "text": [
      "Epoch: 9 of 60, \tTraining Loss: 0.072699\n",
      "Training loss decreased (0.083251 --> 0.072699).  Saving model ...\n"
     ]
    },
    {
     "name": "stderr",
     "output_type": "stream",
     "text": [
      "100%|██████████| 937/937 [00:15<00:00, 60.46it/s]\n"
     ]
    },
    {
     "name": "stdout",
     "output_type": "stream",
     "text": [
      "Epoch: 10 of 60, \tTraining Loss: 0.062758\n",
      "Training loss decreased (0.072699 --> 0.062758).  Saving model ...\n"
     ]
    },
    {
     "name": "stderr",
     "output_type": "stream",
     "text": [
      "100%|██████████| 937/937 [00:15<00:00, 61.08it/s]\n"
     ]
    },
    {
     "name": "stdout",
     "output_type": "stream",
     "text": [
      "Epoch: 11 of 60, \tTraining Loss: 0.055330\n",
      "Training loss decreased (0.062758 --> 0.055330).  Saving model ...\n"
     ]
    },
    {
     "name": "stderr",
     "output_type": "stream",
     "text": [
      "100%|██████████| 937/937 [00:15<00:00, 60.58it/s]\n"
     ]
    },
    {
     "name": "stdout",
     "output_type": "stream",
     "text": [
      "Epoch: 12 of 60, \tTraining Loss: 0.048084\n",
      "Training loss decreased (0.055330 --> 0.048084).  Saving model ...\n"
     ]
    },
    {
     "name": "stderr",
     "output_type": "stream",
     "text": [
      "100%|██████████| 937/937 [00:15<00:00, 60.30it/s]\n"
     ]
    },
    {
     "name": "stdout",
     "output_type": "stream",
     "text": [
      "Epoch: 13 of 60, \tTraining Loss: 0.044040\n",
      "Training loss decreased (0.048084 --> 0.044040).  Saving model ...\n"
     ]
    },
    {
     "name": "stderr",
     "output_type": "stream",
     "text": [
      "100%|██████████| 937/937 [00:15<00:00, 60.84it/s]\n"
     ]
    },
    {
     "name": "stdout",
     "output_type": "stream",
     "text": [
      "Epoch: 14 of 60, \tTraining Loss: 0.038217\n",
      "Training loss decreased (0.044040 --> 0.038217).  Saving model ...\n"
     ]
    },
    {
     "name": "stderr",
     "output_type": "stream",
     "text": [
      "100%|██████████| 937/937 [00:15<00:00, 62.09it/s]\n"
     ]
    },
    {
     "name": "stdout",
     "output_type": "stream",
     "text": [
      "Epoch: 15 of 60, \tTraining Loss: 0.034018\n",
      "Training loss decreased (0.038217 --> 0.034018).  Saving model ...\n"
     ]
    },
    {
     "name": "stderr",
     "output_type": "stream",
     "text": [
      "100%|██████████| 937/937 [00:15<00:00, 62.17it/s]\n"
     ]
    },
    {
     "name": "stdout",
     "output_type": "stream",
     "text": [
      "Epoch: 16 of 60, \tTraining Loss: 0.029645\n",
      "Training loss decreased (0.034018 --> 0.029645).  Saving model ...\n"
     ]
    },
    {
     "name": "stderr",
     "output_type": "stream",
     "text": [
      "100%|██████████| 937/937 [00:14<00:00, 62.57it/s]\n"
     ]
    },
    {
     "name": "stdout",
     "output_type": "stream",
     "text": [
      "Epoch: 17 of 60, \tTraining Loss: 0.026382\n",
      "Training loss decreased (0.029645 --> 0.026382).  Saving model ...\n"
     ]
    },
    {
     "name": "stderr",
     "output_type": "stream",
     "text": [
      "100%|██████████| 937/937 [00:15<00:00, 61.24it/s]\n"
     ]
    },
    {
     "name": "stdout",
     "output_type": "stream",
     "text": [
      "Epoch: 18 of 60, \tTraining Loss: 0.027570\n"
     ]
    },
    {
     "name": "stderr",
     "output_type": "stream",
     "text": [
      "100%|██████████| 937/937 [00:15<00:00, 60.39it/s]\n"
     ]
    },
    {
     "name": "stdout",
     "output_type": "stream",
     "text": [
      "Epoch: 19 of 60, \tTraining Loss: 0.024098\n",
      "Training loss decreased (0.026382 --> 0.024098).  Saving model ...\n"
     ]
    },
    {
     "name": "stderr",
     "output_type": "stream",
     "text": [
      "100%|██████████| 937/937 [00:15<00:00, 59.99it/s]\n"
     ]
    },
    {
     "name": "stdout",
     "output_type": "stream",
     "text": [
      "Epoch: 20 of 60, \tTraining Loss: 0.020862\n",
      "Training loss decreased (0.024098 --> 0.020862).  Saving model ...\n"
     ]
    },
    {
     "name": "stderr",
     "output_type": "stream",
     "text": [
      "100%|██████████| 937/937 [00:15<00:00, 61.15it/s]\n"
     ]
    },
    {
     "name": "stdout",
     "output_type": "stream",
     "text": [
      "Epoch: 21 of 60, \tTraining Loss: 0.019207\n",
      "Training loss decreased (0.020862 --> 0.019207).  Saving model ...\n"
     ]
    },
    {
     "name": "stderr",
     "output_type": "stream",
     "text": [
      "100%|██████████| 937/937 [00:15<00:00, 60.62it/s]\n"
     ]
    },
    {
     "name": "stdout",
     "output_type": "stream",
     "text": [
      "Epoch: 22 of 60, \tTraining Loss: 0.016966\n",
      "Training loss decreased (0.019207 --> 0.016966).  Saving model ...\n"
     ]
    },
    {
     "name": "stderr",
     "output_type": "stream",
     "text": [
      "100%|██████████| 937/937 [00:15<00:00, 61.17it/s]\n"
     ]
    },
    {
     "name": "stdout",
     "output_type": "stream",
     "text": [
      "Epoch: 23 of 60, \tTraining Loss: 0.016828\n",
      "Training loss decreased (0.016966 --> 0.016828).  Saving model ...\n"
     ]
    },
    {
     "name": "stderr",
     "output_type": "stream",
     "text": [
      "100%|██████████| 937/937 [00:15<00:00, 60.74it/s]\n"
     ]
    },
    {
     "name": "stdout",
     "output_type": "stream",
     "text": [
      "Epoch: 24 of 60, \tTraining Loss: 0.015281\n",
      "Training loss decreased (0.016828 --> 0.015281).  Saving model ...\n"
     ]
    },
    {
     "name": "stderr",
     "output_type": "stream",
     "text": [
      "100%|██████████| 937/937 [00:14<00:00, 62.79it/s]\n"
     ]
    },
    {
     "name": "stdout",
     "output_type": "stream",
     "text": [
      "Epoch: 25 of 60, \tTraining Loss: 0.012914\n",
      "Training loss decreased (0.015281 --> 0.012914).  Saving model ...\n"
     ]
    },
    {
     "name": "stderr",
     "output_type": "stream",
     "text": [
      "100%|██████████| 937/937 [00:15<00:00, 61.85it/s]\n"
     ]
    },
    {
     "name": "stdout",
     "output_type": "stream",
     "text": [
      "Epoch: 26 of 60, \tTraining Loss: 0.015326\n"
     ]
    },
    {
     "name": "stderr",
     "output_type": "stream",
     "text": [
      "100%|██████████| 937/937 [00:14<00:00, 63.33it/s]\n"
     ]
    },
    {
     "name": "stdout",
     "output_type": "stream",
     "text": [
      "Epoch: 27 of 60, \tTraining Loss: 0.013109\n"
     ]
    },
    {
     "name": "stderr",
     "output_type": "stream",
     "text": [
      "100%|██████████| 937/937 [00:14<00:00, 62.49it/s]\n"
     ]
    },
    {
     "name": "stdout",
     "output_type": "stream",
     "text": [
      "Epoch: 28 of 60, \tTraining Loss: 0.013303\n"
     ]
    },
    {
     "name": "stderr",
     "output_type": "stream",
     "text": [
      "100%|██████████| 937/937 [00:14<00:00, 62.77it/s]\n"
     ]
    },
    {
     "name": "stdout",
     "output_type": "stream",
     "text": [
      "Epoch: 29 of 60, \tTraining Loss: 0.010286\n",
      "Training loss decreased (0.012914 --> 0.010286).  Saving model ...\n"
     ]
    },
    {
     "name": "stderr",
     "output_type": "stream",
     "text": [
      "100%|██████████| 937/937 [00:15<00:00, 60.75it/s]\n"
     ]
    },
    {
     "name": "stdout",
     "output_type": "stream",
     "text": [
      "Epoch: 30 of 60, \tTraining Loss: 0.010483\n"
     ]
    },
    {
     "name": "stderr",
     "output_type": "stream",
     "text": [
      "100%|██████████| 937/937 [00:15<00:00, 60.30it/s]\n"
     ]
    },
    {
     "name": "stdout",
     "output_type": "stream",
     "text": [
      "Epoch: 31 of 60, \tTraining Loss: 0.009231\n",
      "Training loss decreased (0.010286 --> 0.009231).  Saving model ...\n"
     ]
    },
    {
     "name": "stderr",
     "output_type": "stream",
     "text": [
      "100%|██████████| 937/937 [00:15<00:00, 60.83it/s]\n"
     ]
    },
    {
     "name": "stdout",
     "output_type": "stream",
     "text": [
      "Epoch: 32 of 60, \tTraining Loss: 0.011042\n"
     ]
    },
    {
     "name": "stderr",
     "output_type": "stream",
     "text": [
      "100%|██████████| 937/937 [00:15<00:00, 60.71it/s]\n"
     ]
    },
    {
     "name": "stdout",
     "output_type": "stream",
     "text": [
      "Epoch: 33 of 60, \tTraining Loss: 0.009092\n",
      "Training loss decreased (0.009231 --> 0.009092).  Saving model ...\n"
     ]
    },
    {
     "name": "stderr",
     "output_type": "stream",
     "text": [
      "100%|██████████| 937/937 [00:15<00:00, 61.24it/s]\n"
     ]
    },
    {
     "name": "stdout",
     "output_type": "stream",
     "text": [
      "Epoch: 34 of 60, \tTraining Loss: 0.010273\n"
     ]
    },
    {
     "name": "stderr",
     "output_type": "stream",
     "text": [
      "100%|██████████| 937/937 [00:14<00:00, 62.72it/s]\n"
     ]
    },
    {
     "name": "stdout",
     "output_type": "stream",
     "text": [
      "Epoch: 35 of 60, \tTraining Loss: 0.008814\n",
      "Training loss decreased (0.009092 --> 0.008814).  Saving model ...\n"
     ]
    },
    {
     "name": "stderr",
     "output_type": "stream",
     "text": [
      "100%|██████████| 937/937 [00:15<00:00, 62.43it/s]\n"
     ]
    },
    {
     "name": "stdout",
     "output_type": "stream",
     "text": [
      "Epoch: 36 of 60, \tTraining Loss: 0.008478\n",
      "Training loss decreased (0.008814 --> 0.008478).  Saving model ...\n"
     ]
    },
    {
     "name": "stderr",
     "output_type": "stream",
     "text": [
      "100%|██████████| 937/937 [00:15<00:00, 61.25it/s]\n"
     ]
    },
    {
     "name": "stdout",
     "output_type": "stream",
     "text": [
      "Epoch: 37 of 60, \tTraining Loss: 0.008124\n",
      "Training loss decreased (0.008478 --> 0.008124).  Saving model ...\n"
     ]
    },
    {
     "name": "stderr",
     "output_type": "stream",
     "text": [
      "100%|██████████| 937/937 [00:15<00:00, 61.85it/s]\n"
     ]
    },
    {
     "name": "stdout",
     "output_type": "stream",
     "text": [
      "Epoch: 38 of 60, \tTraining Loss: 0.009425\n"
     ]
    },
    {
     "name": "stderr",
     "output_type": "stream",
     "text": [
      "100%|██████████| 937/937 [00:14<00:00, 62.59it/s]\n"
     ]
    },
    {
     "name": "stdout",
     "output_type": "stream",
     "text": [
      "Epoch: 39 of 60, \tTraining Loss: 0.008971\n"
     ]
    },
    {
     "name": "stderr",
     "output_type": "stream",
     "text": [
      "100%|██████████| 937/937 [00:15<00:00, 61.14it/s]\n"
     ]
    },
    {
     "name": "stdout",
     "output_type": "stream",
     "text": [
      "Epoch: 40 of 60, \tTraining Loss: 0.007069\n",
      "Training loss decreased (0.008124 --> 0.007069).  Saving model ...\n"
     ]
    },
    {
     "name": "stderr",
     "output_type": "stream",
     "text": [
      "100%|██████████| 937/937 [00:15<00:00, 60.46it/s]\n"
     ]
    },
    {
     "name": "stdout",
     "output_type": "stream",
     "text": [
      "Epoch: 41 of 60, \tTraining Loss: 0.005748\n",
      "Training loss decreased (0.007069 --> 0.005748).  Saving model ...\n"
     ]
    },
    {
     "name": "stderr",
     "output_type": "stream",
     "text": [
      "100%|██████████| 937/937 [00:15<00:00, 60.94it/s]\n"
     ]
    },
    {
     "name": "stdout",
     "output_type": "stream",
     "text": [
      "Epoch: 42 of 60, \tTraining Loss: 0.007670\n"
     ]
    },
    {
     "name": "stderr",
     "output_type": "stream",
     "text": [
      "100%|██████████| 937/937 [00:15<00:00, 61.75it/s]\n"
     ]
    },
    {
     "name": "stdout",
     "output_type": "stream",
     "text": [
      "Epoch: 43 of 60, \tTraining Loss: 0.007370\n"
     ]
    },
    {
     "name": "stderr",
     "output_type": "stream",
     "text": [
      "100%|██████████| 937/937 [00:15<00:00, 62.08it/s]\n"
     ]
    },
    {
     "name": "stdout",
     "output_type": "stream",
     "text": [
      "Epoch: 44 of 60, \tTraining Loss: 0.007973\n"
     ]
    },
    {
     "name": "stderr",
     "output_type": "stream",
     "text": [
      "100%|██████████| 937/937 [00:14<00:00, 63.13it/s]\n"
     ]
    },
    {
     "name": "stdout",
     "output_type": "stream",
     "text": [
      "Epoch: 45 of 60, \tTraining Loss: 0.006754\n"
     ]
    },
    {
     "name": "stderr",
     "output_type": "stream",
     "text": [
      "100%|██████████| 937/937 [00:15<00:00, 62.36it/s]\n"
     ]
    },
    {
     "name": "stdout",
     "output_type": "stream",
     "text": [
      "Epoch: 46 of 60, \tTraining Loss: 0.006773\n"
     ]
    },
    {
     "name": "stderr",
     "output_type": "stream",
     "text": [
      "100%|██████████| 937/937 [00:14<00:00, 62.59it/s]\n"
     ]
    },
    {
     "name": "stdout",
     "output_type": "stream",
     "text": [
      "Epoch: 47 of 60, \tTraining Loss: 0.006322\n"
     ]
    },
    {
     "name": "stderr",
     "output_type": "stream",
     "text": [
      "100%|██████████| 937/937 [00:13<00:00, 67.44it/s]\n"
     ]
    },
    {
     "name": "stdout",
     "output_type": "stream",
     "text": [
      "Epoch: 48 of 60, \tTraining Loss: 0.005843\n"
     ]
    },
    {
     "name": "stderr",
     "output_type": "stream",
     "text": [
      "100%|██████████| 937/937 [00:14<00:00, 62.81it/s]\n"
     ]
    },
    {
     "name": "stdout",
     "output_type": "stream",
     "text": [
      "Epoch: 49 of 60, \tTraining Loss: 0.006361\n"
     ]
    },
    {
     "name": "stderr",
     "output_type": "stream",
     "text": [
      "100%|██████████| 937/937 [00:15<00:00, 61.14it/s]\n"
     ]
    },
    {
     "name": "stdout",
     "output_type": "stream",
     "text": [
      "Epoch: 50 of 60, \tTraining Loss: 0.005597\n",
      "Training loss decreased (0.005748 --> 0.005597).  Saving model ...\n"
     ]
    },
    {
     "name": "stderr",
     "output_type": "stream",
     "text": [
      "100%|██████████| 937/937 [00:15<00:00, 61.22it/s]\n"
     ]
    },
    {
     "name": "stdout",
     "output_type": "stream",
     "text": [
      "Epoch: 51 of 60, \tTraining Loss: 0.004750\n",
      "Training loss decreased (0.005597 --> 0.004750).  Saving model ...\n"
     ]
    },
    {
     "name": "stderr",
     "output_type": "stream",
     "text": [
      "100%|██████████| 937/937 [00:15<00:00, 60.72it/s]\n"
     ]
    },
    {
     "name": "stdout",
     "output_type": "stream",
     "text": [
      "Epoch: 52 of 60, \tTraining Loss: 0.004311\n",
      "Training loss decreased (0.004750 --> 0.004311).  Saving model ...\n"
     ]
    },
    {
     "name": "stderr",
     "output_type": "stream",
     "text": [
      "100%|██████████| 937/937 [00:15<00:00, 60.14it/s]\n"
     ]
    },
    {
     "name": "stdout",
     "output_type": "stream",
     "text": [
      "Epoch: 53 of 60, \tTraining Loss: 0.004644\n"
     ]
    },
    {
     "name": "stderr",
     "output_type": "stream",
     "text": [
      "100%|██████████| 937/937 [00:15<00:00, 61.59it/s]\n"
     ]
    },
    {
     "name": "stdout",
     "output_type": "stream",
     "text": [
      "Epoch: 54 of 60, \tTraining Loss: 0.004710\n"
     ]
    },
    {
     "name": "stderr",
     "output_type": "stream",
     "text": [
      "100%|██████████| 937/937 [00:15<00:00, 61.04it/s]\n"
     ]
    },
    {
     "name": "stdout",
     "output_type": "stream",
     "text": [
      "Epoch: 55 of 60, \tTraining Loss: 0.007312\n"
     ]
    },
    {
     "name": "stderr",
     "output_type": "stream",
     "text": [
      "100%|██████████| 937/937 [00:15<00:00, 61.15it/s]\n"
     ]
    },
    {
     "name": "stdout",
     "output_type": "stream",
     "text": [
      "Epoch: 56 of 60, \tTraining Loss: 0.004989\n"
     ]
    },
    {
     "name": "stderr",
     "output_type": "stream",
     "text": [
      "100%|██████████| 937/937 [00:15<00:00, 60.56it/s]\n"
     ]
    },
    {
     "name": "stdout",
     "output_type": "stream",
     "text": [
      "Epoch: 57 of 60, \tTraining Loss: 0.004175\n",
      "Training loss decreased (0.004311 --> 0.004175).  Saving model ...\n"
     ]
    },
    {
     "name": "stderr",
     "output_type": "stream",
     "text": [
      "100%|██████████| 937/937 [00:15<00:00, 61.75it/s]\n"
     ]
    },
    {
     "name": "stdout",
     "output_type": "stream",
     "text": [
      "Epoch: 58 of 60, \tTraining Loss: 0.004231\n"
     ]
    },
    {
     "name": "stderr",
     "output_type": "stream",
     "text": [
      "100%|██████████| 937/937 [00:15<00:00, 61.41it/s]\n"
     ]
    },
    {
     "name": "stdout",
     "output_type": "stream",
     "text": [
      "Epoch: 59 of 60, \tTraining Loss: 0.004680\n"
     ]
    },
    {
     "name": "stderr",
     "output_type": "stream",
     "text": [
      "100%|██████████| 937/937 [00:15<00:00, 60.95it/s]\n"
     ]
    },
    {
     "name": "stdout",
     "output_type": "stream",
     "text": [
      "Epoch: 60 of 60, \tTraining Loss: 0.004301\n"
     ]
    },
    {
     "data": {
      "image/png": "[encoded data removed]",
      "text/plain": [
       "<Figure size 1700x500 with 2 Axes>"
      ]
     },
     "metadata": {},
     "output_type": "display_data"
    }
   ],
   "source": [
    "train_f1, dev_f1, losses = train(n_epochs,num_classes,blstmClassifierGlove,criterion,optimizer,tag_enc,train_loader_glove,dev_loader_glove,'blstm2.pt')\n",
    "plt.figure(figsize=(17,5))\n",
    "plt.subplot(121)\n",
    "plt.plot(train_f1)\n",
    "plt.plot(dev_f1)\n",
    "plt.legend(['train-f1', 'dev-f1'])\n",
    "plt.xlabel('Epochs')\n",
    "plt.title('F1-score')\n",
    "plt.ylim(0,1)\n",
    "plt.subplot(122)\n",
    "plt.plot(losses)\n",
    "plt.xlabel('Epochs')\n",
    "plt.title('Training Loss')    \n",
    "plt.savefig(\"BLSTMGlove.png\", pad_inches=0.3, bbox_inches='tight')"
   ]
  },
  {
   "cell_type": "code",
   "execution_count": 20,
   "id": "66faf340",
   "metadata": {},
   "outputs": [
    {
     "name": "stdout",
     "output_type": "stream",
     "text": [
      "Counter({1: 43046, 5: 1857, 3: 1849, 4: 1300, 0: 1291, 2: 916, 6: 703, 7: 340, 8: 276})\n",
      "Counter({1: 42975, 3: 1842, 5: 1837, 0: 1341, 4: 1307, 2: 922, 6: 751, 7: 346, 8: 257})\n",
      "BiLSTM Glove metrics (avg. all classes): prec: 0.8306525917048149, \trecall: 0.8268933354191574, \tf1: 0.8285192081829393\n",
      "processed 51578 tokens with 5942 phrases; found: 6058 phrases; correct: 5499.\n",
      "accuracy:  98.56%; precision:  90.77%; recall:  92.54%; FB1:  91.65\n",
      "              LOC: precision:  93.74%; recall:  96.19%; FB1:  94.95  1885\n",
      "             MISC: precision:  84.39%; recall:  86.23%; FB1:  85.30  942\n",
      "              ORG: precision:  85.87%; recall:  87.02%; FB1:  86.44  1359\n",
      "              PER: precision:  94.55%; recall:  96.09%; FB1:  95.32  1872\n"
     ]
    }
   ],
   "source": [
    "blstmClassifierGlove.load_state_dict(torch.load('blstm2.pt'))\n",
    "prec, rec, f1 = metrics(blstmClassifierGlove,dev_loader_glove)\n",
    "print(\"BiLSTM Glove metrics (avg. all classes): prec: {}, \\trecall: {}, \\tf1: {}\".format(prec,rec,f1))\n",
    "\n",
    "makeOutput(blstmClassifierGlove,dev_loader_glove,X_dev,tag_dec,\"dev2.out\")\n",
    "!perl conll03eval.txt < dev2.out\n",
    "makeOutput(blstmClassifierGlove,test_loader_glove,X_test,tag_dec,\"test2.out\")"
   ]
  },
  {
   "cell_type": "markdown",
   "id": "3d5c3448",
   "metadata": {},
   "source": [
    "The BiLSTM model with Glove embeddings and Casing embeddings acheives an F1 score of **91.65%** on the conll evaluation"
   ]
  },
  {
   "cell_type": "markdown",
   "id": "c181fa7b",
   "metadata": {},
   "source": [
    "# Bonus: LSTM-CNN model"
   ]
  },
  {
   "cell_type": "markdown",
   "id": "cfd4f8f8",
   "metadata": {},
   "source": [
    "- For character embeddings to be trained, we encode the character info for each word for each sentence. We need to pack it into a tensor that can be loaded when training.\n",
    "- Since the character information will be encoded in a 2D matrix, we will have to expand the word embeddings and case embeddings to the same shape so that it can be concatenated and packed in one tensor for the Dataloader. \n",
    "- The character encodings are padded to the max length of words seen in the glove dictionary.\n",
    "- During training, all three encodings are separated and passed into the respective embedding layers and later concatenated after passing to the BLSTM layers.\n",
    "- The CNN module takes in the char encodings for each word, and pass into \n",
    "    - Char embedding layer(inp=char_vocab_size,op=30) -> Conv1d(inp=30,op=40) -> MaxPool1d(longest_word_for_padding)\n",
    "- This is done for all the sentences in a for loop in the BLSTM module and concatenated with the outputs of word and case embedding.\n",
    "- The 3 layers of information is passed to the BLSTM layer and the final classifier."
   ]
  },
  {
   "cell_type": "code",
   "execution_count": 14,
   "id": "a6074003",
   "metadata": {},
   "outputs": [],
   "source": [
    "# character infor encoding\n",
    "char_enc = {\"<pad>\":0, \"<unk>\":1}\n",
    "for c in \" 0123456789abcdefghijklmnopqrstuvwxyzABCDEFGHIJKLMNOPQRSTUVWXYZ.,-_()[]{}<>!?:;#'\\\"/\\\\%$`&=*+@^~|\":\n",
    "    char_enc[c] = len(char_enc)\n",
    "    \n",
    "longest_word_for_padding = max([len(w) for w in vocab_glove_enc.keys()])"
   ]
  },
  {
   "cell_type": "code",
   "execution_count": 15,
   "id": "8b93f270",
   "metadata": {},
   "outputs": [],
   "source": [
    "# Data encoding\n",
    "def enc_char_info(x,char):\n",
    "\n",
    "    def enc_char(w,char):\n",
    "        return np.array([char.get(c, char['<unk>']) for c in w])\n",
    "\n",
    "    x_pad = []\n",
    "    for w in x:\n",
    "        enc_x = torch.from_numpy(enc_char(w,char))\n",
    "        # padding with \"<pad>\":0\n",
    "        x_pad.append(torch.nn.functional.pad(enc_x,(0,longest_word_for_padding-enc_x.shape[0])))\n",
    "    \n",
    "    # length info not required\n",
    "    # x_out = torch.vstack([torch.hstack([x,torch.tensor(len(w))]) for x,w in zip(x_pad,x)])\n",
    "    \n",
    "    return torch.vstack(x_pad)\n",
    "\n",
    "\n",
    "# how many samples per batch to load\n",
    "batch_size = 16\n",
    "\n",
    "# encoding and packing the train data\n",
    "X_train_sent_pad = torch.nn.utils.rnn.pad_sequence([torch.from_numpy(enc_sent_case_insensitive(x,vocab_glove_enc)) for x in X_train], batch_first=True, padding_value=vocab_glove_enc['<pad>'])\n",
    "\n",
    "X_train_case_pad = torch.nn.utils.rnn.pad_sequence([torch.from_numpy(enc_case(x,casing_enc)) for x in X_train], batch_first=True, padding_value=casing_enc['<pad>'])\n",
    "\n",
    "X_train_char_pad = [enc_char_info(x,char_enc) for x in X_train]\n",
    "X_train_char_pad = [torch.nn.ConstantPad2d((0,0,0,X_train_sent_pad.shape[1]-x.shape[0]), 0)(x) for x in X_train_char_pad]\n",
    "X_train_pad = []\n",
    "for x1,x2,x3,l in zip(X_train_sent_pad,X_train_case_pad,X_train_char_pad,X_train):\n",
    "    x1 = x1.view(-1, 1).expand(x3.shape)\n",
    "    x2 = x2.view(-1, 1).expand(x3.shape)\n",
    "    X_train_pad.append([torch.stack([x1,x2,x3],dim=2),len(l)])\n",
    "\n",
    "y_train_torch = torch.nn.utils.rnn.pad_sequence([torch.from_numpy(enc_tags(y_,tag_enc)) for y_ in y_train], batch_first=True, padding_value=tag_enc['<pad>'])\n",
    "\n",
    "# encoding and packing the dev data\n",
    "X_dev_sent_pad = torch.nn.utils.rnn.pad_sequence([torch.from_numpy(enc_sent_case_insensitive(x,vocab_glove_enc)) for x in X_dev], batch_first=True, padding_value=vocab_glove_enc['<pad>'])\n",
    "\n",
    "X_dev_case_pad = torch.nn.utils.rnn.pad_sequence([torch.from_numpy(enc_case(x,casing_enc)) for x in X_dev], batch_first=True, padding_value=casing_enc['<pad>'])\n",
    "\n",
    "X_dev_char_pad = [enc_char_info(x,char_enc) for x in X_dev]\n",
    "X_dev_char_pad = [torch.nn.ConstantPad2d((0,0,0,X_dev_sent_pad.shape[1]-x.shape[0]), 0)(x) for x in X_dev_char_pad]\n",
    "X_dev_pad = []\n",
    "for x1,x2,x3,l in zip(X_dev_sent_pad,X_dev_case_pad,X_dev_char_pad,X_dev):\n",
    "    x1 = x1.view(-1, 1).expand(x3.shape)\n",
    "    x2 = x2.view(-1, 1).expand(x3.shape)\n",
    "    X_dev_pad.append([torch.stack([x1,x2,x3],dim=2),len(l)])\n",
    "    \n",
    "y_dev_torch = torch.nn.utils.rnn.pad_sequence([torch.from_numpy(enc_tags(y_,tag_enc)) for y_ in y_dev], batch_first=True, padding_value=tag_enc['<pad>'])\n",
    "\n",
    "# encoding and packing the test data\n",
    "X_test_sent_pad = torch.nn.utils.rnn.pad_sequence([torch.from_numpy(enc_sent_case_insensitive(x,vocab_glove_enc)) for x in X_test], batch_first=True, padding_value=vocab_glove_enc['<pad>'])\n",
    "\n",
    "X_test_case_pad = torch.nn.utils.rnn.pad_sequence([torch.from_numpy(enc_case(x,casing_enc)) for x in X_test], batch_first=True, padding_value=casing_enc['<pad>'])\n",
    "\n",
    "X_test_char_pad = [enc_char_info(x,char_enc) for x in X_test]\n",
    "X_test_char_pad = [torch.nn.ConstantPad2d((0,0,0,X_test_sent_pad.shape[1]-x.shape[0]), 0)(x) for x in X_test_char_pad]\n",
    "X_test_pad = []\n",
    "for x1,x2,x3,l in zip(X_test_sent_pad,X_test_case_pad,X_test_char_pad,X_test):\n",
    "    x1 = x1.view(-1, 1).expand(x3.shape)\n",
    "    x2 = x2.view(-1, 1).expand(x3.shape)\n",
    "    X_test_pad.append([torch.stack([x1,x2,x3],dim=2),len(l)])\n",
    "\n",
    "train_data = Model_Data(X_train_pad,y_train_torch)\n",
    "dev_data = Model_Data(X_dev_pad,y_dev_torch)\n",
    "test_data = Model_Data(X_test_pad,[])\n",
    "\n",
    "# prepare data loaders\n",
    "train_loader_blstm_cnn = torch.utils.data.DataLoader(train_data, batch_size=batch_size)\n",
    "dev_loader_blstm_cnn = torch.utils.data.DataLoader(dev_data, batch_size=batch_size)\n",
    "test_loader_blstm_cnn = torch.utils.data.DataLoader(test_data, batch_size=batch_size)"
   ]
  },
  {
   "cell_type": "code",
   "execution_count": 52,
   "id": "49c532dd",
   "metadata": {},
   "outputs": [],
   "source": [
    "class CNN(torch.nn.Module):\n",
    "    def __init__(self, char_vocab_size, char_emb_dim, cnn_win_size, pad_char, outshape):\n",
    "        super(CNN, self).__init__()\n",
    "        \n",
    "        self.emb_char = torch.nn.Embedding(char_vocab_size, char_emb_dim, padding_idx=pad_char)\n",
    "        torch.nn.init.xavier_uniform_(self.emb_char.weight)\n",
    "        self.drop = torch.nn.Dropout(0.5)\n",
    "        self.cd2 = torch.nn.Conv2d(char_emb_dim, out_channels=outshape, kernel_size=(1,cnn_win_size), padding='same')\n",
    "        self.maxpool = torch.nn.MaxPool2d((68,1))\n",
    "        \n",
    "    def forward(self, x):\n",
    "        \n",
    "        x = self.emb_char(x)\n",
    "        x = self.drop(x)\n",
    "        # (batch, signal, channel) -> (batch, channel, signal) \n",
    "        x = torch.permute(x, (0,3,2,1))\n",
    "        x = self.cd2(x)\n",
    "        x = self.maxpool(x)\n",
    "        x = torch.squeeze(x)\n",
    "        # (batch, channel, signal) -> (batch, signal, channel) \n",
    "        x = torch.permute(x, (0,2,1))\n",
    "    \n",
    "        return x\n",
    "    \n",
    "class BLSTM_CNN(torch.nn.Module):\n",
    "    def __init__(self, embs_glove, embs_casing, cnn_out_dim, char_vocab_size, char_emb_dim, cnn_win_size, lstm_inp_size, hidden, n_layers, linear_op_size, n_classes, dropout, pad_char, pad_case, pad_word):\n",
    "        super(BLSTM_CNN, self).__init__()\n",
    "        self.hidden_dim = hidden\n",
    "        self.num_layers = n_layers\n",
    "        self.cnn_outshape = cnn_out_dim\n",
    "        \n",
    "        self.cnn_module = CNN(char_vocab_size, char_emb_dim, cnn_win_size, pad_char, outshape=cnn_out_dim)\n",
    "        self.emb_casing = torch.nn.Embedding.from_pretrained(torch.from_numpy(embs_casing).float(), padding_idx=pad_case)\n",
    "        self.emb = torch.nn.Embedding.from_pretrained(torch.from_numpy(embs_glove).float(), padding_idx=pad_word)\n",
    "        self.bilstm = torch.nn.LSTM(input_size=lstm_inp_size, hidden_size=hidden, num_layers=n_layers, batch_first=True, bidirectional=True)\n",
    "        self.linear1 = torch.nn.Linear(2*hidden, linear_op_size)\n",
    "        self.elu = torch.nn.ELU()\n",
    "        self.drop = torch.nn.Dropout(dropout)\n",
    "        self.linear2 = torch.nn.Linear(linear_op_size, n_classes)\n",
    "        \n",
    "    def forward(self, x, l):\n",
    "        \n",
    "        x_word_info = self.emb(x.select(-1,0).select(-1,0))\n",
    "        x_case_info = self.emb_casing(x.select(-1,1).select(-1,0))\n",
    "        \n",
    "        # x_char_info = []\n",
    "\n",
    "        # batch of sentences -> sentence of words -> word of chars\n",
    "        # time-distributed cnn module\n",
    "        # for words in x.select(-1,2):\n",
    "        #     x_char_info.append(self.cnn_module(words).view(-1,self.cnn_outshape))\n",
    "        \n",
    "        # x_char_info = torch.stack(x_char_info)\n",
    "        \n",
    "        x_char_info = self.cnn_module(x.select(-1,2))\n",
    "        \n",
    "        x = torch.cat([x_word_info,x_case_info,x_char_info], dim=2)\n",
    "        \n",
    "        x_pack = torch.nn.utils.rnn.pack_padded_sequence(x, l, batch_first=True, enforce_sorted=False)\n",
    "        lstm_out, _ = self.bilstm(x_pack)\n",
    "        lstm_out, _ = torch.nn.utils.rnn.pad_packed_sequence(lstm_out, batch_first=True)\n",
    "\n",
    "        x = self.drop(lstm_out)\n",
    "        x = self.linear1(x)\n",
    "        x = self.elu(x)\n",
    "        x = self.linear2(x)\n",
    "        return x"
   ]
  },
  {
   "cell_type": "code",
   "execution_count": 56,
   "id": "ad4ac993",
   "metadata": {},
   "outputs": [
    {
     "name": "stdout",
     "output_type": "stream",
     "text": [
      "BLSTM_CNN(\n",
      "  (cnn_module): CNN(\n",
      "    (emb_char): Embedding(97, 30, padding_idx=0)\n",
      "    (drop): Dropout(p=0.5, inplace=False)\n",
      "    (cd2): Conv2d(30, 20, kernel_size=(1, 3), stride=(1, 1), padding=same)\n",
      "    (maxpool): MaxPool2d(kernel_size=(68, 1), stride=(68, 1), padding=0, dilation=1, ceil_mode=False)\n",
      "  )\n",
      "  (emb_casing): Embedding(8, 8, padding_idx=0)\n",
      "  (emb): Embedding(400002, 100, padding_idx=0)\n",
      "  (bilstm): LSTM(128, 256, batch_first=True, bidirectional=True)\n",
      "  (linear1): Linear(in_features=512, out_features=128, bias=True)\n",
      "  (elu): ELU(alpha=1.0)\n",
      "  (drop): Dropout(p=0.33, inplace=False)\n",
      "  (linear2): Linear(in_features=128, out_features=9, bias=True)\n",
      ")\n"
     ]
    }
   ],
   "source": [
    "cnn_win_size = 3\n",
    "char_vocab_size = len(char_enc.keys())\n",
    "char_emb_dim = 30\n",
    "cnn_out_dim = 20\n",
    "char_padding = char_enc['<pad>']\n",
    "case_padding = casing_enc['<pad>']\n",
    "word_padding = vocab_glove_enc['<pad>']\n",
    "hidden_size=256 \n",
    "num_layers=1 \n",
    "linear_op_size=128\n",
    "num_classes=len(tag_enc.keys())-1 # exclude the padding tag\n",
    "dropout = 0.33\n",
    "pad_idx = vocab_enc['<pad>']\n",
    "lstm_inp_size = embs_glove.shape[1] + embs_casing.shape[1] + cnn_out_dim\n",
    "class_weights = torch.tensor([(1-v/sum(tags.values())) for v in tags.values()]).to(device)\n",
    "\n",
    "BLSTM_CNN_classifier = BLSTM_CNN(embs_glove, embs_casing, cnn_out_dim, char_vocab_size, char_emb_dim, cnn_win_size, lstm_inp_size, hidden_size, num_layers, linear_op_size, num_classes, dropout, char_padding, case_padding, word_padding) \n",
    "BLSTM_CNN_classifier.to(device)\n",
    "print(BLSTM_CNN_classifier)\n",
    "\n",
    "criterion = torch.nn.CrossEntropyLoss(weight=class_weights,ignore_index=tag_enc['<pad>'])\n",
    "optimizer = torch.optim.SGD(BLSTM_CNN_classifier.parameters(), lr=0.1, momentum=0.9) \n",
    "n_epochs = 60"
   ]
  },
  {
   "cell_type": "code",
   "execution_count": 57,
   "id": "4540b10e",
   "metadata": {
    "scrolled": false
   },
   "outputs": [
    {
     "name": "stderr",
     "output_type": "stream",
     "text": [
      "100%|██████████| 937/937 [03:49<00:00,  4.08it/s]\n"
     ]
    },
    {
     "name": "stdout",
     "output_type": "stream",
     "text": [
      "Epoch: 1 of 60, \tTraining Loss: 0.607770\n",
      "Training loss decreased (inf --> 0.607770).  Saving model ...\n"
     ]
    },
    {
     "name": "stderr",
     "output_type": "stream",
     "text": [
      "100%|██████████| 937/937 [05:54<00:00,  2.65it/s]\n"
     ]
    },
    {
     "name": "stdout",
     "output_type": "stream",
     "text": [
      "Epoch: 2 of 60, \tTraining Loss: 0.279310\n",
      "Training loss decreased (0.607770 --> 0.279310).  Saving model ...\n"
     ]
    },
    {
     "name": "stderr",
     "output_type": "stream",
     "text": [
      "100%|██████████| 937/937 [05:06<00:00,  3.06it/s]\n"
     ]
    },
    {
     "name": "stdout",
     "output_type": "stream",
     "text": [
      "Epoch: 3 of 60, \tTraining Loss: 0.208544\n",
      "Training loss decreased (0.279310 --> 0.208544).  Saving model ...\n"
     ]
    },
    {
     "name": "stderr",
     "output_type": "stream",
     "text": [
      "100%|██████████| 937/937 [03:26<00:00,  4.54it/s]\n"
     ]
    },
    {
     "name": "stdout",
     "output_type": "stream",
     "text": [
      "Epoch: 4 of 60, \tTraining Loss: 0.165867\n",
      "Training loss decreased (0.208544 --> 0.165867).  Saving model ...\n"
     ]
    },
    {
     "name": "stderr",
     "output_type": "stream",
     "text": [
      "100%|██████████| 937/937 [03:07<00:00,  4.99it/s]\n"
     ]
    },
    {
     "name": "stdout",
     "output_type": "stream",
     "text": [
      "Epoch: 5 of 60, \tTraining Loss: 0.135317\n",
      "Training loss decreased (0.165867 --> 0.135317).  Saving model ...\n"
     ]
    },
    {
     "name": "stderr",
     "output_type": "stream",
     "text": [
      "100%|██████████| 937/937 [03:54<00:00,  3.99it/s]\n"
     ]
    },
    {
     "name": "stdout",
     "output_type": "stream",
     "text": [
      "Epoch: 6 of 60, \tTraining Loss: 0.109755\n",
      "Training loss decreased (0.135317 --> 0.109755).  Saving model ...\n"
     ]
    },
    {
     "name": "stderr",
     "output_type": "stream",
     "text": [
      "100%|██████████| 937/937 [04:10<00:00,  3.74it/s]\n"
     ]
    },
    {
     "name": "stdout",
     "output_type": "stream",
     "text": [
      "Epoch: 7 of 60, \tTraining Loss: 0.091896\n",
      "Training loss decreased (0.109755 --> 0.091896).  Saving model ...\n"
     ]
    },
    {
     "name": "stderr",
     "output_type": "stream",
     "text": [
      "100%|██████████| 937/937 [08:48<00:00,  1.77it/s]  \n"
     ]
    },
    {
     "name": "stdout",
     "output_type": "stream",
     "text": [
      "Epoch: 8 of 60, \tTraining Loss: 0.078904\n",
      "Training loss decreased (0.091896 --> 0.078904).  Saving model ...\n"
     ]
    },
    {
     "name": "stderr",
     "output_type": "stream",
     "text": [
      "100%|██████████| 937/937 [03:29<00:00,  4.47it/s]\n"
     ]
    },
    {
     "name": "stdout",
     "output_type": "stream",
     "text": [
      "Epoch: 9 of 60, \tTraining Loss: 0.067325\n",
      "Training loss decreased (0.078904 --> 0.067325).  Saving model ...\n"
     ]
    },
    {
     "name": "stderr",
     "output_type": "stream",
     "text": [
      "100%|██████████| 937/937 [03:05<00:00,  5.06it/s]\n"
     ]
    },
    {
     "name": "stdout",
     "output_type": "stream",
     "text": [
      "Epoch: 10 of 60, \tTraining Loss: 0.056749\n",
      "Training loss decreased (0.067325 --> 0.056749).  Saving model ...\n"
     ]
    },
    {
     "name": "stderr",
     "output_type": "stream",
     "text": [
      "100%|██████████| 937/937 [03:38<00:00,  4.29it/s]\n"
     ]
    },
    {
     "name": "stdout",
     "output_type": "stream",
     "text": [
      "Epoch: 11 of 60, \tTraining Loss: 0.050195\n",
      "Training loss decreased (0.056749 --> 0.050195).  Saving model ...\n"
     ]
    },
    {
     "name": "stderr",
     "output_type": "stream",
     "text": [
      "100%|██████████| 937/937 [04:18<00:00,  3.62it/s]\n"
     ]
    },
    {
     "name": "stdout",
     "output_type": "stream",
     "text": [
      "Epoch: 12 of 60, \tTraining Loss: 0.042508\n",
      "Training loss decreased (0.050195 --> 0.042508).  Saving model ...\n"
     ]
    },
    {
     "name": "stderr",
     "output_type": "stream",
     "text": [
      "100%|██████████| 937/937 [04:34<00:00,  3.41it/s]\n"
     ]
    },
    {
     "name": "stdout",
     "output_type": "stream",
     "text": [
      "Epoch: 13 of 60, \tTraining Loss: 0.039351\n",
      "Training loss decreased (0.042508 --> 0.039351).  Saving model ...\n"
     ]
    },
    {
     "name": "stderr",
     "output_type": "stream",
     "text": [
      "100%|██████████| 937/937 [03:46<00:00,  4.14it/s]\n"
     ]
    },
    {
     "name": "stdout",
     "output_type": "stream",
     "text": [
      "Epoch: 14 of 60, \tTraining Loss: 0.033622\n",
      "Training loss decreased (0.039351 --> 0.033622).  Saving model ...\n"
     ]
    },
    {
     "name": "stderr",
     "output_type": "stream",
     "text": [
      "100%|██████████| 937/937 [04:29<00:00,  3.47it/s]\n"
     ]
    },
    {
     "name": "stdout",
     "output_type": "stream",
     "text": [
      "Epoch: 15 of 60, \tTraining Loss: 0.032288\n",
      "Training loss decreased (0.033622 --> 0.032288).  Saving model ...\n"
     ]
    },
    {
     "name": "stderr",
     "output_type": "stream",
     "text": [
      "100%|██████████| 937/937 [03:46<00:00,  4.14it/s]\n"
     ]
    },
    {
     "name": "stdout",
     "output_type": "stream",
     "text": [
      "Epoch: 16 of 60, \tTraining Loss: 0.026559\n",
      "Training loss decreased (0.032288 --> 0.026559).  Saving model ...\n"
     ]
    },
    {
     "name": "stderr",
     "output_type": "stream",
     "text": [
      "100%|██████████| 937/937 [04:04<00:00,  3.83it/s]\n"
     ]
    },
    {
     "name": "stdout",
     "output_type": "stream",
     "text": [
      "Epoch: 17 of 60, \tTraining Loss: 0.025442\n",
      "Training loss decreased (0.026559 --> 0.025442).  Saving model ...\n"
     ]
    },
    {
     "name": "stderr",
     "output_type": "stream",
     "text": [
      "100%|██████████| 937/937 [03:26<00:00,  4.53it/s]\n"
     ]
    },
    {
     "name": "stdout",
     "output_type": "stream",
     "text": [
      "Epoch: 18 of 60, \tTraining Loss: 0.021903\n",
      "Training loss decreased (0.025442 --> 0.021903).  Saving model ...\n"
     ]
    },
    {
     "name": "stderr",
     "output_type": "stream",
     "text": [
      "100%|██████████| 937/937 [03:44<00:00,  4.17it/s]\n"
     ]
    },
    {
     "name": "stdout",
     "output_type": "stream",
     "text": [
      "Epoch: 19 of 60, \tTraining Loss: 0.018516\n",
      "Training loss decreased (0.021903 --> 0.018516).  Saving model ...\n"
     ]
    },
    {
     "name": "stderr",
     "output_type": "stream",
     "text": [
      "100%|██████████| 937/937 [04:00<00:00,  3.90it/s]\n"
     ]
    },
    {
     "name": "stdout",
     "output_type": "stream",
     "text": [
      "Epoch: 20 of 60, \tTraining Loss: 0.016884\n",
      "Training loss decreased (0.018516 --> 0.016884).  Saving model ...\n"
     ]
    },
    {
     "name": "stderr",
     "output_type": "stream",
     "text": [
      "100%|██████████| 937/937 [04:54<00:00,  3.18it/s]\n"
     ]
    },
    {
     "name": "stdout",
     "output_type": "stream",
     "text": [
      "Epoch: 21 of 60, \tTraining Loss: 0.016847\n",
      "Training loss decreased (0.016884 --> 0.016847).  Saving model ...\n"
     ]
    },
    {
     "name": "stderr",
     "output_type": "stream",
     "text": [
      "100%|██████████| 937/937 [04:22<00:00,  3.57it/s]\n"
     ]
    },
    {
     "name": "stdout",
     "output_type": "stream",
     "text": [
      "Epoch: 22 of 60, \tTraining Loss: 0.019120\n"
     ]
    },
    {
     "name": "stderr",
     "output_type": "stream",
     "text": [
      "100%|██████████| 937/937 [04:13<00:00,  3.69it/s]\n"
     ]
    },
    {
     "name": "stdout",
     "output_type": "stream",
     "text": [
      "Epoch: 23 of 60, \tTraining Loss: 0.016190\n",
      "Training loss decreased (0.016847 --> 0.016190).  Saving model ...\n"
     ]
    },
    {
     "name": "stderr",
     "output_type": "stream",
     "text": [
      "100%|██████████| 937/937 [03:53<00:00,  4.02it/s]\n"
     ]
    },
    {
     "name": "stdout",
     "output_type": "stream",
     "text": [
      "Epoch: 24 of 60, \tTraining Loss: 0.013239\n",
      "Training loss decreased (0.016190 --> 0.013239).  Saving model ...\n"
     ]
    },
    {
     "name": "stderr",
     "output_type": "stream",
     "text": [
      "100%|██████████| 937/937 [03:26<00:00,  4.54it/s]\n"
     ]
    },
    {
     "name": "stdout",
     "output_type": "stream",
     "text": [
      "Epoch: 25 of 60, \tTraining Loss: 0.013160\n",
      "Training loss decreased (0.013239 --> 0.013160).  Saving model ...\n"
     ]
    },
    {
     "name": "stderr",
     "output_type": "stream",
     "text": [
      "100%|██████████| 937/937 [03:27<00:00,  4.52it/s]\n"
     ]
    },
    {
     "name": "stdout",
     "output_type": "stream",
     "text": [
      "Epoch: 26 of 60, \tTraining Loss: 0.016335\n"
     ]
    },
    {
     "name": "stderr",
     "output_type": "stream",
     "text": [
      "100%|██████████| 937/937 [03:22<00:00,  4.63it/s]\n"
     ]
    },
    {
     "name": "stdout",
     "output_type": "stream",
     "text": [
      "Epoch: 27 of 60, \tTraining Loss: 0.012822\n",
      "Training loss decreased (0.013160 --> 0.012822).  Saving model ...\n"
     ]
    },
    {
     "name": "stderr",
     "output_type": "stream",
     "text": [
      "100%|██████████| 937/937 [03:46<00:00,  4.14it/s]\n"
     ]
    },
    {
     "name": "stdout",
     "output_type": "stream",
     "text": [
      "Epoch: 28 of 60, \tTraining Loss: 0.010779\n",
      "Training loss decreased (0.012822 --> 0.010779).  Saving model ...\n"
     ]
    },
    {
     "name": "stderr",
     "output_type": "stream",
     "text": [
      "100%|██████████| 937/937 [04:19<00:00,  3.61it/s]\n"
     ]
    },
    {
     "name": "stdout",
     "output_type": "stream",
     "text": [
      "Epoch: 29 of 60, \tTraining Loss: 0.009374\n",
      "Training loss decreased (0.010779 --> 0.009374).  Saving model ...\n"
     ]
    },
    {
     "name": "stderr",
     "output_type": "stream",
     "text": [
      "100%|██████████| 937/937 [04:05<00:00,  3.82it/s]\n"
     ]
    },
    {
     "name": "stdout",
     "output_type": "stream",
     "text": [
      "Epoch: 30 of 60, \tTraining Loss: 0.008669\n",
      "Training loss decreased (0.009374 --> 0.008669).  Saving model ...\n"
     ]
    },
    {
     "name": "stderr",
     "output_type": "stream",
     "text": [
      "100%|██████████| 937/937 [04:15<00:00,  3.67it/s]\n"
     ]
    },
    {
     "name": "stdout",
     "output_type": "stream",
     "text": [
      "Epoch: 31 of 60, \tTraining Loss: 0.007579\n",
      "Training loss decreased (0.008669 --> 0.007579).  Saving model ...\n"
     ]
    },
    {
     "name": "stderr",
     "output_type": "stream",
     "text": [
      "100%|██████████| 937/937 [03:45<00:00,  4.16it/s]\n"
     ]
    },
    {
     "name": "stdout",
     "output_type": "stream",
     "text": [
      "Epoch: 32 of 60, \tTraining Loss: 0.006513\n",
      "Training loss decreased (0.007579 --> 0.006513).  Saving model ...\n"
     ]
    },
    {
     "name": "stderr",
     "output_type": "stream",
     "text": [
      "100%|██████████| 937/937 [03:20<00:00,  4.68it/s]\n"
     ]
    },
    {
     "name": "stdout",
     "output_type": "stream",
     "text": [
      "Epoch: 33 of 60, \tTraining Loss: 0.005908\n",
      "Training loss decreased (0.006513 --> 0.005908).  Saving model ...\n"
     ]
    },
    {
     "name": "stderr",
     "output_type": "stream",
     "text": [
      "100%|██████████| 937/937 [02:37<00:00,  5.95it/s]\n"
     ]
    },
    {
     "name": "stdout",
     "output_type": "stream",
     "text": [
      "Epoch: 34 of 60, \tTraining Loss: 0.005197\n",
      "Training loss decreased (0.005908 --> 0.005197).  Saving model ...\n"
     ]
    },
    {
     "name": "stderr",
     "output_type": "stream",
     "text": [
      "100%|██████████| 937/937 [02:38<00:00,  5.92it/s]\n"
     ]
    },
    {
     "name": "stdout",
     "output_type": "stream",
     "text": [
      "Epoch: 35 of 60, \tTraining Loss: 0.005449\n"
     ]
    },
    {
     "name": "stderr",
     "output_type": "stream",
     "text": [
      "100%|██████████| 937/937 [02:38<00:00,  5.93it/s]\n"
     ]
    },
    {
     "name": "stdout",
     "output_type": "stream",
     "text": [
      "Epoch: 36 of 60, \tTraining Loss: 0.005494\n"
     ]
    },
    {
     "name": "stderr",
     "output_type": "stream",
     "text": [
      "100%|██████████| 937/937 [02:37<00:00,  5.97it/s]\n"
     ]
    },
    {
     "name": "stdout",
     "output_type": "stream",
     "text": [
      "Epoch: 37 of 60, \tTraining Loss: 0.006244\n"
     ]
    },
    {
     "name": "stderr",
     "output_type": "stream",
     "text": [
      "100%|██████████| 937/937 [02:33<00:00,  6.10it/s]\n"
     ]
    },
    {
     "name": "stdout",
     "output_type": "stream",
     "text": [
      "Epoch: 38 of 60, \tTraining Loss: 0.004674\n",
      "Training loss decreased (0.005197 --> 0.004674).  Saving model ...\n"
     ]
    },
    {
     "name": "stderr",
     "output_type": "stream",
     "text": [
      "100%|██████████| 937/937 [02:36<00:00,  5.97it/s]\n"
     ]
    },
    {
     "name": "stdout",
     "output_type": "stream",
     "text": [
      "Epoch: 39 of 60, \tTraining Loss: 0.006243\n"
     ]
    },
    {
     "name": "stderr",
     "output_type": "stream",
     "text": [
      "100%|██████████| 937/937 [02:38<00:00,  5.90it/s]\n"
     ]
    },
    {
     "name": "stdout",
     "output_type": "stream",
     "text": [
      "Epoch: 40 of 60, \tTraining Loss: 0.006154\n"
     ]
    },
    {
     "name": "stderr",
     "output_type": "stream",
     "text": [
      "100%|██████████| 937/937 [03:19<00:00,  4.71it/s]\n"
     ]
    },
    {
     "name": "stdout",
     "output_type": "stream",
     "text": [
      "Epoch: 41 of 60, \tTraining Loss: 0.004576\n",
      "Training loss decreased (0.004674 --> 0.004576).  Saving model ...\n"
     ]
    },
    {
     "name": "stderr",
     "output_type": "stream",
     "text": [
      "100%|██████████| 937/937 [03:30<00:00,  4.44it/s]\n"
     ]
    },
    {
     "name": "stdout",
     "output_type": "stream",
     "text": [
      "Epoch: 42 of 60, \tTraining Loss: 0.005395\n"
     ]
    },
    {
     "name": "stderr",
     "output_type": "stream",
     "text": [
      "100%|██████████| 937/937 [03:22<00:00,  4.62it/s]\n"
     ]
    },
    {
     "name": "stdout",
     "output_type": "stream",
     "text": [
      "Epoch: 43 of 60, \tTraining Loss: 0.005694\n"
     ]
    },
    {
     "name": "stderr",
     "output_type": "stream",
     "text": [
      "100%|██████████| 937/937 [03:22<00:00,  4.63it/s]\n"
     ]
    },
    {
     "name": "stdout",
     "output_type": "stream",
     "text": [
      "Epoch: 44 of 60, \tTraining Loss: 0.004062\n",
      "Training loss decreased (0.004576 --> 0.004062).  Saving model ...\n"
     ]
    },
    {
     "name": "stderr",
     "output_type": "stream",
     "text": [
      "100%|██████████| 937/937 [03:26<00:00,  4.54it/s]\n"
     ]
    },
    {
     "name": "stdout",
     "output_type": "stream",
     "text": [
      "Epoch: 45 of 60, \tTraining Loss: 0.004340\n"
     ]
    },
    {
     "name": "stderr",
     "output_type": "stream",
     "text": [
      "100%|██████████| 937/937 [03:23<00:00,  4.60it/s]\n"
     ]
    },
    {
     "name": "stdout",
     "output_type": "stream",
     "text": [
      "Epoch: 46 of 60, \tTraining Loss: 0.004568\n"
     ]
    },
    {
     "name": "stderr",
     "output_type": "stream",
     "text": [
      "100%|██████████| 937/937 [03:37<00:00,  4.31it/s]\n"
     ]
    },
    {
     "name": "stdout",
     "output_type": "stream",
     "text": [
      "Epoch: 47 of 60, \tTraining Loss: 0.005060\n"
     ]
    },
    {
     "name": "stderr",
     "output_type": "stream",
     "text": [
      "100%|██████████| 937/937 [03:36<00:00,  4.33it/s]\n"
     ]
    },
    {
     "name": "stdout",
     "output_type": "stream",
     "text": [
      "Epoch: 48 of 60, \tTraining Loss: 0.004158\n"
     ]
    },
    {
     "name": "stderr",
     "output_type": "stream",
     "text": [
      "100%|██████████| 937/937 [03:23<00:00,  4.60it/s]\n"
     ]
    },
    {
     "name": "stdout",
     "output_type": "stream",
     "text": [
      "Epoch: 49 of 60, \tTraining Loss: 0.004916\n"
     ]
    },
    {
     "name": "stderr",
     "output_type": "stream",
     "text": [
      "100%|██████████| 937/937 [03:17<00:00,  4.74it/s]\n"
     ]
    },
    {
     "name": "stdout",
     "output_type": "stream",
     "text": [
      "Epoch: 50 of 60, \tTraining Loss: 0.004736\n"
     ]
    },
    {
     "name": "stderr",
     "output_type": "stream",
     "text": [
      "100%|██████████| 937/937 [03:21<00:00,  4.66it/s]\n"
     ]
    },
    {
     "name": "stdout",
     "output_type": "stream",
     "text": [
      "Epoch: 51 of 60, \tTraining Loss: 0.004267\n"
     ]
    },
    {
     "name": "stderr",
     "output_type": "stream",
     "text": [
      "100%|██████████| 937/937 [04:01<00:00,  3.89it/s]\n"
     ]
    },
    {
     "name": "stdout",
     "output_type": "stream",
     "text": [
      "Epoch: 52 of 60, \tTraining Loss: 0.003808\n",
      "Training loss decreased (0.004062 --> 0.003808).  Saving model ...\n"
     ]
    },
    {
     "name": "stderr",
     "output_type": "stream",
     "text": [
      "100%|██████████| 937/937 [04:09<00:00,  3.76it/s]\n"
     ]
    },
    {
     "name": "stdout",
     "output_type": "stream",
     "text": [
      "Epoch: 53 of 60, \tTraining Loss: 0.003378\n",
      "Training loss decreased (0.003808 --> 0.003378).  Saving model ...\n"
     ]
    },
    {
     "name": "stderr",
     "output_type": "stream",
     "text": [
      "100%|██████████| 937/937 [04:06<00:00,  3.81it/s]\n"
     ]
    },
    {
     "name": "stdout",
     "output_type": "stream",
     "text": [
      "Epoch: 54 of 60, \tTraining Loss: 0.002701\n",
      "Training loss decreased (0.003378 --> 0.002701).  Saving model ...\n"
     ]
    },
    {
     "name": "stderr",
     "output_type": "stream",
     "text": [
      "100%|██████████| 937/937 [04:16<00:00,  3.65it/s]\n"
     ]
    },
    {
     "name": "stdout",
     "output_type": "stream",
     "text": [
      "Epoch: 55 of 60, \tTraining Loss: 0.002888\n"
     ]
    },
    {
     "name": "stderr",
     "output_type": "stream",
     "text": [
      "100%|██████████| 937/937 [11:56:47<00:00, 45.90s/it]    \n"
     ]
    },
    {
     "name": "stdout",
     "output_type": "stream",
     "text": [
      "Epoch: 56 of 60, \tTraining Loss: 0.002356\n",
      "Training loss decreased (0.002701 --> 0.002356).  Saving model ...\n"
     ]
    },
    {
     "name": "stderr",
     "output_type": "stream",
     "text": [
      "100%|██████████| 937/937 [03:34<00:00,  4.38it/s]\n"
     ]
    },
    {
     "name": "stdout",
     "output_type": "stream",
     "text": [
      "Epoch: 57 of 60, \tTraining Loss: 0.002909\n"
     ]
    },
    {
     "name": "stderr",
     "output_type": "stream",
     "text": [
      "100%|██████████| 937/937 [03:37<00:00,  4.31it/s]\n"
     ]
    },
    {
     "name": "stdout",
     "output_type": "stream",
     "text": [
      "Epoch: 58 of 60, \tTraining Loss: 0.003208\n"
     ]
    },
    {
     "name": "stderr",
     "output_type": "stream",
     "text": [
      "100%|██████████| 937/937 [03:40<00:00,  4.25it/s]\n"
     ]
    },
    {
     "name": "stdout",
     "output_type": "stream",
     "text": [
      "Epoch: 59 of 60, \tTraining Loss: 0.004117\n"
     ]
    },
    {
     "name": "stderr",
     "output_type": "stream",
     "text": [
      "100%|██████████| 937/937 [02:54<00:00,  5.38it/s]\n"
     ]
    },
    {
     "name": "stdout",
     "output_type": "stream",
     "text": [
      "Epoch: 60 of 60, \tTraining Loss: 0.002084\n",
      "Training loss decreased (0.002356 --> 0.002084).  Saving model ...\n"
     ]
    },
    {
     "data": {
      "image/png": "[encoded data removed]",
      "text/plain": [
       "<Figure size 1224x360 with 2 Axes>"
      ]
     },
     "metadata": {
      "needs_background": "light"
     },
     "output_type": "display_data"
    }
   ],
   "source": [
    "train_f1, dev_f1, losses = train(n_epochs,num_classes,BLSTM_CNN_classifier,criterion,optimizer,tag_enc,train_loader_blstm_cnn,dev_loader_blstm_cnn,'blstm_cnn.pt')\n",
    "plt.figure(figsize=(17,5))\n",
    "plt.subplot(121)\n",
    "plt.plot(train_f1)\n",
    "plt.plot(dev_f1)\n",
    "plt.legend(['train-f1', 'dev-f1'])\n",
    "plt.xlabel('Epochs')\n",
    "plt.title('F1-score')\n",
    "plt.ylim(0,1)\n",
    "plt.subplot(122)\n",
    "plt.plot(losses)\n",
    "plt.xlabel('Epochs')\n",
    "plt.title('Training Loss')\n",
    "plt.savefig(\"BLSTM_CNN.png\", pad_inches=0.3, bbox_inches='tight')"
   ]
  },
  {
   "cell_type": "code",
   "execution_count": 60,
   "id": "0cc359ee",
   "metadata": {},
   "outputs": [
    {
     "name": "stdout",
     "output_type": "stream",
     "text": [
      "Counter({1: 42985, 3: 1861, 5: 1817, 0: 1359, 4: 1304, 2: 914, 6: 748, 7: 326, 8: 264})\n",
      "Counter({1: 42975, 3: 1842, 5: 1837, 0: 1341, 4: 1307, 2: 922, 6: 751, 7: 346, 8: 257})\n",
      "BiLSTM CNN metrics (avg. all classes): prec (avg. all classes): 0.8304826090659073, \trecall: 0.8279716992081234, \tf1: 0.8291285458168913\n",
      "processed 51578 tokens with 5942 phrases; found: 6114 phrases; correct: 5511.\n",
      "accuracy:  98.58%; precision:  90.14%; recall:  92.75%; FB1:  91.42\n",
      "              LOC: precision:  94.53%; recall:  95.05%; FB1:  94.79  1847\n",
      "             MISC: precision:  83.09%; recall:  86.88%; FB1:  84.94  964\n",
      "              ORG: precision:  83.45%; recall:  88.74%; FB1:  86.01  1426\n",
      "              PER: precision:  94.51%; recall:  96.31%; FB1:  95.40  1877\n"
     ]
    }
   ],
   "source": [
    "BLSTM_CNN_classifier.load_state_dict(torch.load('blstm_cnn.pt'))\n",
    "prec, rec, f1 = metrics(BLSTM_CNN_classifier,dev_loader_blstm_cnn)\n",
    "print(\"BiLSTM CNN metrics (avg. all classes): prec (avg. all classes): {}, \\trecall: {}, \\tf1: {}\".format(prec,rec,f1))\n",
    "\n",
    "makeOutput(BLSTM_CNN_classifier,dev_loader_blstm_cnn,X_dev,tag_dec,\"dev_cnn.out\")\n",
    "!perl conll03eval.txt < dev_cnn.out\n",
    "makeOutput(BLSTM_CNN_classifier,test_loader_blstm_cnn,X_test,tag_dec,\"pred\")"
   ]
  },
  {
   "cell_type": "markdown",
   "id": "99f59840",
   "metadata": {},
   "source": [
    "The BiLSTM model with CNN module for character level information acheives an F1 score of **91.63%** on the conll evaluation"
   ]
  },
  {
   "cell_type": "code",
   "execution_count": null,
   "id": "7abf3388",
   "metadata": {},
   "outputs": [],
   "source": []
  },
  {
   "cell_type": "code",
   "execution_count": null,
   "id": "fdb5c858",
   "metadata": {},
   "outputs": [],
   "source": []
  }
 ],
 "metadata": {
  "accelerator": "GPU",
  "colab": {
   "provenance": []
  },
  "gpuClass": "standard",
  "kernelspec": {
   "display_name": "Python 3 (ipykernel)",
   "language": "python",
   "name": "python3"
  },
  "language_info": {
   "codemirror_mode": {
    "name": "ipython",
    "version": 3
   },
   "file_extension": ".py",
   "mimetype": "text/x-python",
   "name": "python",
   "nbconvert_exporter": "python",
   "pygments_lexer": "ipython3",
   "version": "3.7.11"
  }
 },
 "nbformat": 4,
 "nbformat_minor": 5
}
